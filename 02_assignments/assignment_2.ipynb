{
  "cells": [
    {
      "cell_type": "markdown",
      "metadata": {
        "id": "QmzeljDgm4Ll"
      },
      "source": [
        "# Assignment #2: Efficacy Analysis of a Hypothetical Arthritis Drug\n",
        "\n",
        "**Objective**: In this assignment, your task is to utilize Python programming skills to evaluate the effectiveness of a fictional medication designed to reduce inflammation caused by arthritis flare-ups.\n",
        "\n",
        "**Background**: Imagine a clinical trial where 60 patients were administered a new drug for arthritis. Data from this trial has been recorded in a series of CSV files. Evaluate the effectiveness of a fictional medication designed to reduce inflammation caused by arthritis flare-ups.\n",
        "\n",
        "**Data Structure**:\n",
        "- Each CSV file corresponds to a specific check-in session with the patients.\n",
        "- There are 12 such CSV files, reflecting 12 different sessions where patients reported their experiences.\n",
        "- Inside each file:\n",
        "  - Rows: Each of the 60 rows represents a unique patient.\n",
        "  - Columns: Each of the 40 columns corresponds to a day, detailing the number of inflammation flare-ups the patient experienced on that day.\n",
        "\n",
        "**Your Role**: Analyze this data to determine how effective the new drug has been in managing arthritis inflammation across the trial period."
      ]
    },
    {
      "cell_type": "markdown",
      "metadata": {},
      "source": [
        "## Submission Information\n",
        "\n",
        "🚨**Please review our [Assignment Submission Guide](https://github.com/UofT-DSI/onboarding/blob/main/onboarding_documents/submissions.md)**🚨 for detailed instructions on how to format, branch, and submit your work. Following these guidelines is crucial for your submissions to be evaluated correctly.\n",
        "\n",
        "### Submission Parameters:\n",
        "* Submission Due Date: `11:59 PM - 12/05/2024`\n",
        "* The branch name for your repo should be: `assignment-2`\n",
        "* What to submit for this assignment:\n",
        "    * This Jupyter Notebook (assignment_2.ipynb) should be populated and should be the only change in your pull request.\n",
        "* What the pull request link should look like for this assignment: `https://github.com/<your_github_username>/python/pull/<pr_id>`\n",
        "    * Open a private window in your browser. Copy and paste the link to your pull request into the address bar. Make sure you can see your pull request properly. This helps the technical facilitator and learning support staff review your submission easily.\n",
        "\n",
        "Checklist:\n",
        "- [ ] Created a branch with the correct naming convention.\n",
        "- [ ] Ensured that the repository is public.\n",
        "- [ ] Reviewed the PR description guidelines and adhered to them.\n",
        "- [ ] Verify that the link is accessible in a private browser window.\n",
        "\n",
        "If you encounter any difficulties or have questions, please don't hesitate to reach out to our team via our Slack at `#cohort-3-help`. Our Technical Facilitators and Learning Support staff are here to help you navigate any challenges."
      ]
    },
    {
      "cell_type": "markdown",
      "metadata": {
        "id": "yMsC2qsiKNP8"
      },
      "source": [
        "**The file is located under `../05_data/assignment_2_data/`.**\n",
        "\n",
        "The filtered list has been made for you:\n",
        "\n",
        "```python\n",
        "all_paths = [\n",
        "  \"../05_data/assignment_2_data/inflammation_01.csv\",\n",
        "  \"../05_data/assignment_2_data/inflammation_02.csv\",\n",
        "  \"../05_data/assignment_2_data/inflammation_03.csv\",\n",
        "  \"../05_data/assignment_2_data/inflammation_04.csv\",\n",
        "  \"../05_data/assignment_2_data/inflammation_05.csv\",\n",
        "  \"../05_data/assignment_2_data/inflammation_06.csv\",\n",
        "  \"../05_data/assignment_2_data/inflammation_07.csv\",\n",
        "  \"../05_data/assignment_2_data/inflammation_08.csv\",\n",
        "  \"../05_data/assignment_2_data/inflammation_09.csv\",\n",
        "  \"../05_data/assignment_2_data/inflammation_10.csv\",\n",
        "  \"../05_data/assignment_2_data/inflammation_11.csv\",\n",
        "  \"../05_data/assignment_2_data/inflammation_12.csv\",\n",
        "]\n",
        "```"
      ]
    },
    {
      "cell_type": "markdown",
      "metadata": {
        "id": "JhJAJb1m-nkn"
      },
      "source": [
        "## 1. Reading and Displaying Data from the First File\n",
        "\n",
        "With the list of the relevant `inflammation_xx.csv` file paths above, write a program to read the `inflammation_xx.csv` files, and display the contents of the first file in this list.\n",
        "\n",
        "**Hint**: Remember to use appropriate Python file handling and data reading methods. If you need guidance on how to handle CSV files in Python, refer to the relevant sections in your Python learning resources."
      ]
    },
    {
      "cell_type": "code",
      "execution_count": null,
      "metadata": {
        "id": "n0m48JsS-nMC"
      },
      "outputs": [],
      "source": [
        "all_paths = [\n",
        "  \"../05_data/assignment_2_data/inflammation_01.csv\",\n",
        "  \"../05_data/assignment_2_data/inflammation_02.csv\",\n",
        "  \"../05_data/assignment_2_data/inflammation_03.csv\",\n",
        "  \"../05_data/assignment_2_data/inflammation_04.csv\",\n",
        "  \"../05_data/assignment_2_data/inflammation_05.csv\",\n",
        "  \"../05_data/assignment_2_data/inflammation_06.csv\",\n",
        "  \"../05_data/assignment_2_data/inflammation_07.csv\",\n",
        "  \"../05_data/assignment_2_data/inflammation_08.csv\",\n",
        "  \"../05_data/assignment_2_data/inflammation_09.csv\",\n",
        "  \"../05_data/assignment_2_data/inflammation_10.csv\",\n",
        "  \"../05_data/assignment_2_data/inflammation_11.csv\",\n",
        "  \"../05_data/assignment_2_data/inflammation_12.csv\",\n",
        "]\n",
        "\n",
        "def read_session_data(session_filename):    \n",
        "    '''\n",
        "     This function reads data from 'session_filename' file passed as its argument\n",
        "     and returns a two dimentional array containing the data.\n",
        "     It also prints a message if number of columns in each row are more then 40.\n",
        "     Parameter: \n",
        "        session_filename: str (.csv data file pathname)        \n",
        "     Returns: \n",
        "        two dimentional array\n",
        "            Row = patient no.\n",
        "            Column = list of int values for inflammation for that patient.\n",
        "            The number of int values or columns in each row are 40.      \n",
        "    '''     \n",
        "    session_data = []\n",
        "    with open(session_filename, 'r') as file_handle:     \n",
        "        content = []\n",
        "        for line in file_handle:\n",
        "            content = line.strip('\\n').split(',')      \n",
        "            if len(content) > 40:\n",
        "                print(\"Patient has data for more than 40 days\")\n",
        "            session_data.append(content)       \n",
        "         \n",
        "    return session_data\n",
        "\n",
        "# help(read_session_data)\n",
        "              \n",
        "# There are 12 .csv files. Each file corresponds to data for a session. \n",
        "# Each .csv file has 60 records. Each record corresponds to data for a patient.\n",
        "# There are 40 entries for each patient. Each coloumn represents data recorded\n",
        "# for a day.\n",
        "\n",
        "# Printing data from all sessions\n",
        "for session_filename in all_paths:\n",
        "    session_data = read_session_data(session_filename)\n",
        "    print(f'Session data in {session_filename}')\n",
        "    print(session_data)\n",
        "      \n",
        "               \n",
        "# printing data from first file              \n",
        "print(read_session_data(all_paths[0]))"
      ]
    },
    {
      "cell_type": "markdown",
      "metadata": {
        "id": "sacozX7oB1VP"
      },
      "source": [
        "## 2. Data Summarization Function: `patient_summary`\n",
        "\n",
        "Your next step is to create a function named `patient_summary` that will compute summary statistics for each patient's data over a 40-day period.\n",
        "\n",
        "**Function Specifications**:\n",
        "- **Function Name**: `patient_summary`\n",
        "- **Parameters**:\n",
        "  1. `file_path`: A string representing the path to the CSV file containing the patient data.\n",
        "  2. `operation`: A string specifying the type of summary operation to perform. Acceptable values are \"mean\", \"max\", or \"min\". This will determine whether the function calculates the average, maximum, or minimum number of flare-ups for each patient over the 40 days.\n",
        "\n",
        "**Expected Behavior**:\n",
        "- Your function should read the data from the file at `file_path`.\n",
        "- Perform the specified `operation` (mean, max, or min) to summarize the flare-ups data for each of the 60 patients.\n",
        "- Return an array with 60 elements, each element being the result of the summary operation for a corresponding patient.\n",
        "\n",
        "**Expected Output**:\n",
        "- The output should be an array with a length of 60, aligning with the number of patients in the study.\n",
        "\n",
        "**Hints for Implementation**:\n",
        "1. **Utilizing NumPy**: For efficient data manipulation and computation, consider using NumPy, as discussed in the `10_numpy` slides.\n",
        "2. **Output Shape**: Ensure that the shape of your output data matches the number of patients, which is 60."
      ]
    },
    {
      "cell_type": "code",
      "execution_count": 28,
      "metadata": {
        "id": "82-bk4CBB1w4"
      },
      "outputs": [
        {
          "name": "stdout",
          "output_type": "stream",
          "text": [
            "Help on function patient_summary in module __main__:\n",
            "\n",
            "patient_summary(file_path, operation)\n",
            "    This function reads data from the 'file_path' passed as its argument. It returns\n",
            "    the summary of the inflammation values for patients depending on the 'operation'\n",
            "    string passed to it. The summary is either min, max or mean of the values.\n",
            "    \n",
            "    Parameter: \n",
            "       file_path: str (.csv data file pathname)\n",
            "       operation: str ('mean'/'min'/'max')       \n",
            "    Returns: \n",
            "       array containing the summary values for patients\n",
            "\n"
          ]
        }
      ],
      "source": [
        "import numpy as np\n",
        "\n",
        "def patient_summary(file_path, operation):\n",
        "    '''\n",
        "     This function reads data from the 'file_path' passed as its argument. It returns\n",
        "     the summary of the inflammation values for patients depending on the 'operation'\n",
        "     string passed to it. The summary is either min, max or mean of the values.\n",
        "     \n",
        "     Parameter: \n",
        "        file_path: str (.csv data file pathname)\n",
        "        operation: str ('mean'/'min'/'max')       \n",
        "     Returns: \n",
        "        array containing the summary values for patients\n",
        "    '''    \n",
        "\n",
        "    # load the data from the file\n",
        "    data = np.loadtxt(fname=file_path, delimiter=',')\n",
        "    \n",
        "    # Each element of this list is the summary inflammation value for a patient (over 40 days)\n",
        "    # The value stored depends on the 'operation' passed in\n",
        "    patient_summary = []\n",
        "    if operation == 'mean':\n",
        "        # calculate the mean (average) number of flare-ups for each patient\n",
        "        patient_summary = data.mean(axis=1)        \n",
        "    elif operation == 'max':\n",
        "        # calculate the maximum number of flare-ups experienced by each patient\n",
        "        patient_summary = data.max(axis=1)\n",
        "    elif operation == 'min':\n",
        "        # calculate the minimum number of flare-ups experienced by each patient\n",
        "        patient_summary = data.min(axis=1)\n",
        "    else:\n",
        "        # if the operation is not one of the expected values, raise an error\n",
        "        raise ValueError(\"Invalid operation. Please choose 'mean', 'max', or 'min'.\")\n",
        "\n",
        "    return patient_summary\n",
        "\n",
        "help(patient_summary)"
      ]
    },
    {
      "cell_type": "code",
      "execution_count": 29,
      "metadata": {
        "id": "3TYo0-1SDLrd"
      },
      "outputs": [
        {
          "name": "stdout",
          "output_type": "stream",
          "text": [
            "Min values for patients\n",
            " [0. 0. 0. 0. 0. 0. 0. 0. 0. 0. 0. 0. 0. 0. 0. 0. 0. 0. 0. 0. 0. 0. 0. 0.\n",
            " 0. 0. 0. 0. 0. 0. 0. 0. 0. 0. 0. 0. 0. 0. 0. 0. 0. 0. 0. 0. 0. 0. 0. 0.\n",
            " 0. 0. 0. 0. 0. 0. 0. 0. 0. 0. 0. 0.]\n",
            "Mean values for patients\n",
            " [5.45  5.425 6.1   5.9   5.55  6.225 5.975 6.65  6.625 6.525 6.775 5.8\n",
            " 6.225 5.75  5.225 6.3   6.55  5.7   5.85  6.55  5.775 5.825 6.175 6.1\n",
            " 5.8   6.425 6.05  6.025 6.175 6.55  6.175 6.35  6.725 6.125 7.075 5.725\n",
            " 5.925 6.15  6.075 5.75  5.975 5.725 6.3   5.9   6.75  5.925 7.225 6.15\n",
            " 5.95  6.275 5.7   6.1   6.825 5.975 6.725 5.7   6.25  6.4   7.05  5.9  ]\n",
            "Max values for patients\n",
            " [18. 18. 19. 17. 17. 18. 17. 20. 17. 18. 18. 18. 17. 16. 17. 18. 19. 19.\n",
            " 17. 19. 19. 16. 17. 15. 17. 17. 18. 17. 20. 17. 16. 19. 15. 15. 19. 17.\n",
            " 16. 17. 19. 16. 18. 19. 16. 19. 18. 16. 19. 15. 16. 18. 14. 20. 17. 15.\n",
            " 17. 16. 17. 19. 18. 18.]\n",
            "Test passed:  Invalid operation. Please choose 'mean', 'max', or 'min'.\n"
          ]
        }
      ],
      "source": [
        "# test it out on the data file we read in and make sure the size is what we expect i.e., 60\n",
        "\n",
        "# min\n",
        "data_min = patient_summary(all_paths[0], 'min')\n",
        "print(\"Min values for patients\\n\", data_min)\n",
        "assert len(data_min) == 60, \"Total number of min values is not 60\"\n",
        "\n",
        "# mean\n",
        "data_mean = patient_summary(all_paths[0], 'mean')\n",
        "print(\"Mean values for patients\\n\", data_mean)\n",
        "assert len(data_mean) == 60, \"Total number of mean values is not 60\"\n",
        "\n",
        "# max\n",
        "data_max = patient_summary(all_paths[0], 'max')\n",
        "print(\"Max values for patients\\n\", data_max)\n",
        "assert len(data_max) == 60, \"Total number of max values is not 60\"\n",
        "\n",
        "# testing invalid operation string\n",
        "try:\n",
        "    patient_summary(all_paths[0], 'mode')\n",
        "    print(\"Test failed: No excpetion raised\")\n",
        "except ValueError as e:\n",
        "    print(\"Test passed: \", e)"
      ]
    },
    {
      "cell_type": "markdown",
      "metadata": {
        "id": "I-5m0RvxFx4J"
      },
      "source": [
        "## 3. Error Detection in Patient Data\n",
        "\n",
        "Your final task is to develop a function named `detect_problems` that identifies any irregularities in the patient data, specifically focusing on detecting patients with a mean inflammation score of 0.\n",
        "\n",
        "**Function Specifications**:\n",
        "- **Function Name**: `detect_problems`\n",
        "- **Parameter**:\n",
        "  - `file_path`: A string that specifies the path to the CSV file containing patient data.\n",
        "\n",
        "**Expected Behavior**:\n",
        "- The function should read the patient data from the file at `file_path`.\n",
        "- Utilize the previously defined `patient_summary()` function to calculate the mean inflammation for each patient.\n",
        "- Employ an additional helper function `check_zeros(x)` (provided) to determine if there are any zero values in the array of mean inflammations.\n",
        "- The `detect_problems()` function should return `True` if there is at least one patient with a mean inflammation score of 0, and `False` otherwise.\n",
        "\n",
        "**Hints for Implementation**:\n",
        "1. Call `patient_summary(file_path, 'mean')` to get the mean inflammation scores for all patients.\n",
        "2. Use `check_zeros()` to evaluate the mean scores. This helper function takes an array as input and returns `True` if it finds zero values in the array.\n",
        "3. Based on the output from `check_zeros()`, the `detect_problems()` function should return `True` (indicating an issue) if any mean inflammation scores of 0 are found, or `False` if none are found.\n",
        "\n",
        "**Note**: This function is crucial for identifying potential data entry errors, such as healthy individuals being mistakenly included in the dataset or other data-related issues."
      ]
    },
    {
      "cell_type": "markdown",
      "metadata": {
        "id": "pb9EugDCJA4c"
      },
      "source": [
        "**Understanding the `check_zeros(x)` Helper Function**\n",
        "\n",
        "The `check_zeros(x)` function is provided as a tool to assist with your data analysis. While you do not need to modify or fully understand the internal workings of this function, it's important to grasp its input, output, and what the output signifies:\n",
        "\n",
        "1. **Input**:\n",
        "   - **Parameter `x`**: This function takes an array of numbers as its input. In the context of your assignment, this array will typically represent a set of data points from your patient data, such as mean inflammation scores.\n",
        "\n",
        "2. **Output**:\n",
        "   - The function returns a boolean value: either `True` or `False`.\n",
        "\n",
        "3. **Interpreting the Output**:\n",
        "   - **Output is `True`**: This indicates that the array `x` contains at least one zero value. In the context of your analysis, this means that at least one patient has a mean inflammation score of 0, signaling a potential issue or anomaly in the data.\n",
        "   - **Output is `False`**: This signifies that there are no zero values in the array `x`. For your patient data, it means no patient has a mean inflammation score of 0, and thus no apparent anomalies of this type were detected.\n",
        "\n",
        "**Usage in Your Analysis**:\n",
        "When using `check_zeros(x)` in conjunction with your `patient_summary()` function in the `detect_problems()` function, you'll be checking whether any patient in your dataset has an average (mean) inflammation score of 0."
      ]
    },
    {
      "cell_type": "code",
      "execution_count": 20,
      "metadata": {
        "id": "_svDiRkdIwiT"
      },
      "outputs": [],
      "source": [
        "# Run this cell so you can use this helper function\n",
        "\n",
        "def check_zeros(x):\n",
        "    '''\n",
        "    Given an array, x, check whether any values in x equal 0.\n",
        "    Return True if any values found, else returns False.\n",
        "    '''\n",
        "    # np.where() checks every value in x against the condition (x == 0) and returns a tuple of indices where it was True (i.e. x was 0)\n",
        "    flag = np.where(x == 0)[0]\n",
        "\n",
        "    # Checks if there are any objects in flag (i.e. not empty)\n",
        "    # If not empty, it found at least one zero so flag is True, and vice-versa.\n",
        "    return len(flag) > 0"
      ]
    },
    {
      "cell_type": "code",
      "execution_count": 21,
      "metadata": {
        "id": "LEYPM5v4JT0i"
      },
      "outputs": [],
      "source": [
        "def detect_problems(file_path):\n",
        "  data_mean = patient_summary(file_path, \"mean\")\n",
        "  return check_zeros(data_mean)"
      ]
    },
    {
      "cell_type": "code",
      "execution_count": 22,
      "metadata": {},
      "outputs": [
        {
          "name": "stdout",
          "output_type": "stream",
          "text": [
            "../05_data/assignment_2_data/inflammation_01.csv False\n",
            "../05_data/assignment_2_data/inflammation_02.csv False\n",
            "../05_data/assignment_2_data/inflammation_03.csv True\n",
            "../05_data/assignment_2_data/inflammation_04.csv False\n",
            "../05_data/assignment_2_data/inflammation_05.csv False\n",
            "../05_data/assignment_2_data/inflammation_06.csv False\n",
            "../05_data/assignment_2_data/inflammation_07.csv False\n",
            "../05_data/assignment_2_data/inflammation_08.csv True\n",
            "../05_data/assignment_2_data/inflammation_09.csv False\n",
            "../05_data/assignment_2_data/inflammation_10.csv False\n",
            "../05_data/assignment_2_data/inflammation_11.csv True\n",
            "../05_data/assignment_2_data/inflammation_12.csv False\n"
          ]
        }
      ],
      "source": [
        "# Your output for the first file should be False\n",
        "for file in all_paths:\n",
        "    print(file, detect_problems(file))"
      ]
    },
    {
      "cell_type": "markdown",
      "metadata": {
        "id": "j9SUzhiGuHhS"
      },
      "source": [
        "| Criteria                     | Complete Criteria                                                                                                                                                                 | Incomplete Criteria                                                                                                         |\n",
        "|------------------------------|-------------------------------------------------------------------------------------------------------------------------------------------------------------------------------|-----------------------------------------------------------------------------------------------------------------------|\n",
        "| **General Criteria**         |                                                                                                                                                                               |                                                                                                                       |\n",
        "| Code Execution               | All code cells execute without errors.                                                                                                                                        | Any code cell produces an error upon execution.                                                                      |\n",
        "| Code Quality                 | Code is well-organized, concise, and includes necessary comments for clarity.                                                                                                 | Code is unorganized, verbose, or lacks necessary comments.                                                            |\n",
        "| Data Handling                | Data files are correctly handled and processed.                                                                                                                               | Data files are not handled or processed correctly.                                                                    |\n",
        "| Adherence to Instructions    | Follows all instructions and requirements as per the assignment.                                                                                                              | Misses or incorrectly implements one or more of the assignment requirements.                                         |\n",
        "| **Specific Criteria**        |                                                                                                                                                                               |                                                                                                                       |\n",
        "| 1. Reading in our files | Correctly prints out information from the first file.                                                  | Fails to print out information from the first file.                              |\n",
        "| 2. Summarizing our data | Correctly defines `patient_summary()` function. Function processes data as per `operation` and outputs correctly shaped data (60 entries).                                   | Incomplete or incorrect definition of `patient_summary()`. Incorrect implementation of operation or wrong output shape.|\n",
        "| 3. Checking for Errors  | Correctly defines `detect_problems()` function. Function uses `patient_summary()` and `check_zeros()` to identify mean inflammation of 0 accurately.                        | Incorrect definition or implementation of `detect_problems()` function. Fails to accurately identify mean inflammation of 0.|\n",
        "| **Overall Assessment**       | Meets all the general and specific criteria, indicating a strong understanding of the assignment objectives.                                                                  | Fails to meet one or more of the general or specific criteria, indicating a need for further learning or clarification.|\n"
      ]
    },
    {
      "cell_type": "markdown",
      "metadata": {
        "id": "TY_ppBzHvdak"
      },
      "source": [
        "## References\n",
        "\n",
        "### Data Sources\n",
        "- Software Carpentry. _Python Novice Inflammation Data_. http://swcarpentry.github.io/python-novice-inflammation/data/python-novice-inflammation-data.zip\n"
      ]
    }
  ],
  "metadata": {
    "colab": {
      "provenance": []
    },
    "kernelspec": {
      "display_name": "Python 3",
      "name": "python3"
    },
    "language_info": {
      "codemirror_mode": {
        "name": "ipython",
        "version": 3
      },
      "file_extension": ".py",
      "mimetype": "text/x-python",
      "name": "python",
      "nbconvert_exporter": "python",
      "pygments_lexer": "ipython3",
      "version": "3.9.15"
    }
  },
  "nbformat": 4,
  "nbformat_minor": 0
}
