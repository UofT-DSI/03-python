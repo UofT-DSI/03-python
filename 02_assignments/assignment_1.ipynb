#Function to check if two words are anagram

def anagram_checker(word_a,word_b):

    word_a = sorted((word_a).lower())
    word_b = sorted((word_b).lower())

    return word_a == word_b

print(anagram_checker("mTo", "mot"))

#funciton to check if two words are case-sensitive from the anagram checker

def anagram_checker(word_a,word_b, is_case_sensitive):

    if is_case_sensitive:
        return sorted(word_a)==sorted(word_b)
    
    else:
        return sorted(word_a.lower())==sorted(word_b.lower())

    return word_a == word_b

print(anagram_checker("mTo", "mot", is_case_sensitive=False))
