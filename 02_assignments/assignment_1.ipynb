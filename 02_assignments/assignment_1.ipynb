{
 "cells": [
  {
   "cell_type": "markdown",
   "metadata": {},
   "source": [
    "# Assignment #1: Anagram Checker\n",
    "\n",
    "**Background**: Anagram Checker is a program that takes two words and see if an anagram can be made from it. If so, the program will return `true`, otherwise `false`."
   ]
  },
  {
   "cell_type": "markdown",
   "metadata": {},
   "source": [
    "### Part 1: Building the base Anagram Checker\n",
    "\n",
    "Given two valid strings, check to see if they are anagrams of each other. If it is, return `True`, else `False`. For this part, we can assume that uppercase letters are the same as if it was a lowercase character.\n",
    "\n",
    "Examples of anagrams:\n",
    "* Slient and Listen\n",
    "* Night and Think\n",
    "\n",
    "Example outputs:\n",
    "```python\n",
    "anagram_checker(\"Slient\", \"listen\") # True\n",
    "anagram_checker(\"Slient\", \"Night\") # False\n",
    "anagram_checker(\"night\", \"Thing\") # True\n",
    "```"
   ]
  },
  {
   "cell_type": "code",
   "execution_count": 1,
   "metadata": {},
   "outputs": [
    {
     "data": {
      "text/plain": [
       "True"
      ]
     },
     "execution_count": 1,
     "metadata": {},
     "output_type": "execute_result"
    }
   ],
   "source": [
    "# This is a function, which we will learn more about next week. For testing purposes, we will write our code in the function\n",
    "def anagram_checker(word_a, word_b):\n",
    "  # Your code here\n",
    "  if len(word_a) == len(word_b): # compare the number of letters from both words\n",
    "    list_a=sorted(list(word_a.upper())) # uppercase the word, separate the word into a list of single letters, then sort the letters alphabetically \n",
    "    list_b=sorted(list(word_b.upper())) # same as above\n",
    "    if list_a==list_b: # compare the two lists of single letter, if they are the same\n",
    "    #for i in range(len(list_a)): #alternative way of comparing two lists, specific to the single letter at each index position\n",
    "        #if list_a[i]!=list_b[i]:\n",
    "      return True\n",
    "    else:\n",
    "      return False\n",
    "  else: #the number of letters in each word is different\n",
    "    return False\n",
    "# Run your code to check using the words below:\n",
    "anagram_checker(\"Silent\", \"listen\")"
   ]
  },
  {
   "cell_type": "code",
   "execution_count": 2,
   "metadata": {},
   "outputs": [
    {
     "data": {
      "text/plain": [
       "False"
      ]
     },
     "execution_count": 2,
     "metadata": {},
     "output_type": "execute_result"
    }
   ],
   "source": [
    "anagram_checker(\"Slient\", \"Night\")"
   ]
  },
  {
   "cell_type": "code",
   "execution_count": 3,
   "metadata": {},
   "outputs": [
    {
     "data": {
      "text/plain": [
       "True"
      ]
     },
     "execution_count": 3,
     "metadata": {},
     "output_type": "execute_result"
    }
   ],
   "source": [
    "anagram_checker(\"night\", \"Thing\")"
   ]
  },
  {
   "cell_type": "markdown",
   "metadata": {},
   "source": [
    "### Part 2: Expanding the functionality of the Anagram Checker\n",
    "\n",
    "Using your existing and functional anagram checker, let's add a boolean option called `is_case_sensitive`, which will return `True` or `False` based on if the two compared words are anagrams and if we are checking for case sensitivity."
   ]
  },
  {
   "cell_type": "code",
   "execution_count": 4,
   "metadata": {},
   "outputs": [
    {
     "data": {
      "text/plain": [
       "True"
      ]
     },
     "execution_count": 4,
     "metadata": {},
     "output_type": "execute_result"
    }
   ],
   "source": [
    "def anagram_checker(word_a, word_b, is_case_sensitive):\n",
    "  # Modify your existing code here\n",
    "  if is_case_sensitive==False: # if not case sensitive\n",
    "    if len(word_a)==len(word_b): # compare the number of single letters from both words\n",
    "      list_a=sorted(list(word_a.upper())) # uppercase the word, separate into single letters, then sort the list of letters alphatetically\n",
    "      list_b=sorted(list(word_b.upper())) # same as above\n",
    "      if list_a==list_b: # if the list of letters from both words are the same\n",
    "        return True\n",
    "        #return list_a, list_b (for debugging)\n",
    "      else:\n",
    "        return False\n",
    "        #return list_a, list_b (for debugging)\n",
    "    else: # the number of letters from both words is differnet\n",
    "      return False\n",
    "  else: # if case sensitive\n",
    "    if len(word_a)==len(word_b): # compare the number of single letters from both words\n",
    "      list_a=sorted(list(word_a)) # (no need to uppercase the word) separate into single letters, then sort the list of letters alphatetically\n",
    "      list_b=sorted(list(word_b)) # same as above\n",
    "      if list_a==list_b: # if the list of letters from both words are the same\n",
    "          return True\n",
    "      else:\n",
    "          return False         \n",
    "    else:\n",
    "      return False\n",
    "# Run your code to check using the words below:\n",
    "anagram_checker(\"Slient\", \"listen\", False) # True"
   ]
  },
  {
   "cell_type": "code",
   "execution_count": 5,
   "metadata": {},
   "outputs": [
    {
     "data": {
      "text/plain": [
       "False"
      ]
     },
     "execution_count": 5,
     "metadata": {},
     "output_type": "execute_result"
    }
   ],
   "source": [
    "anagram_checker(\"Slient\", \"Listen\", True) # False"
   ]
  },
  {
   "cell_type": "markdown",
   "metadata": {},
   "source": [
    "### Part 3: Expanding the functionality once more\n",
    "\n",
    "Given an array of words, check to see if they are anagrams of each other.\n",
    "\n",
    "```python\n",
    "anagram_checker([\"Slient\", \"night\"], [\"thing\", \"listen\"], False) # True\n",
    "anagram_checker([\"Slient\", \"thing\"], [\"night\", \"slient\"], True) # False\n",
    "```"
   ]
  },
  {
   "cell_type": "code",
   "execution_count": 10,
   "metadata": {},
   "outputs": [
    {
     "data": {
      "text/plain": [
       "False"
      ]
     },
     "execution_count": 10,
     "metadata": {},
     "output_type": "execute_result"
    }
   ],
   "source": [
    "def anagram_checker(words_a, words_b, is_case_sensitive):\n",
    "  # Modify your existing code here\n",
    "  if is_case_sensitive == False:\n",
    "    if len(words_a)==len(words_b): # when the number of words in both lists are same\n",
    "      upper_list_a = list(map(str.upper, words_a)) # uppercase all strings in list words_a, to create a new list\n",
    "      upper_list_b = list(map(str.upper, words_b)) # same as above\n",
    "      list_a=[] # create an empty list list_a\n",
    "      list_b=[] # same as above\n",
    "      for i in range(len(words_a)):\n",
    "        list_a.append(sorted(list(upper_list_a[i]))) # for each word in upper_list_a, slice into single letters, sort the letters alphabetically for each word, append it to list_a\n",
    "        list_b.append(sorted(list(upper_list_b[i]))) # same as above for list_b\n",
    "      sorted_list_a=sorted(list_a) # the order of list of single letters for each word from list_a is the same with the original list word_a, now sort the list alphabetically into a new list\n",
    "      sorted_list_b=sorted(list_b) # same as above\n",
    "      if sorted_list_a==sorted_list_b:# now that the order the single letters for each word as well as the order of the list of single letters are sorted, compare the two lists\n",
    "        return True\n",
    "      else:\n",
    "        return False\n",
    "    return False\n",
    "  \n",
    "  else: #is_case_sensitive == True\n",
    "    if len(words_a)==len(words_b):\n",
    "      # no need to uppercase the list, upper_list_a = list(map(str.upper, words_a))\n",
    "      # no need to uppercase the list, upper_list_b = list(map(str.upper, words_b))\n",
    "      list_a=[]\n",
    "      list_b=[]\n",
    "      for i in range(len(words_a)):\n",
    "        list_a.append(sorted(list(words_a[i])))\n",
    "        list_b.append(sorted(list(words_b[i])))\n",
    "      sorted_list_a=sorted(list_a)\n",
    "      sorted_list_b=sorted(list_b)\n",
    "      if sorted_list_a==sorted_list_b:\n",
    "        return True\n",
    "      else:\n",
    "        return False\n",
    "    return False\n",
    "    \n",
    "   \n",
    "# Create your own words of potential anagrams and use your checker to check it\n",
    "\n",
    "anagram_checker([\"Rife\", \"gas\"], [\"SAG\", \"fire\"], False) # True (postive test)\n",
    "# anagram_checker([\"Rife\", \"gas\"], [\"SAG\", \"fire\"], True) # False (negative test)"
   ]
  },
  {
   "cell_type": "markdown",
   "metadata": {},
   "source": [
    "|Criteria|Pass|Fail|\n",
    "|---|---|---|\n",
    "|Code Execution|All code cells execute without errors.|Any code cell produces an error upon execution.|\n",
    "|Code Quality|Code is well-organized, concise, and includes necessary comments for clarity. E.g. Great use of variable names.|Code is unorganized, verbose, or lacks necessary comments. E.g. Single character variable names outside of loops.|"
   ]
  }
 ],
 "metadata": {
  "kernelspec": {
   "display_name": "new-learner",
   "language": "python",
   "name": "python3"
  },
  "language_info": {
   "codemirror_mode": {
    "name": "ipython",
    "version": 3
   },
   "file_extension": ".py",
   "mimetype": "text/x-python",
   "name": "python",
   "nbconvert_exporter": "python",
   "pygments_lexer": "ipython3",
   "version": "3.9.15"
  }
 },
 "nbformat": 4,
 "nbformat_minor": 2
}
