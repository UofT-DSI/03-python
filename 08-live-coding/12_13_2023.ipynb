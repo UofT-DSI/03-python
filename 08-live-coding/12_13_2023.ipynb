{
  "cells": [
    {
      "cell_type": "markdown",
      "metadata": {},
      "source": [
        "# Introduction to Python- Live Coding\n",
        "\n",
        "**December 13, 2023**"
      ]
    },
    {
      "cell_type": "code",
      "execution_count": 1,
      "metadata": {
        "id": "ZenhwSx4HPR2"
      },
      "outputs": [],
      "source": [
        "name = 'kaylie'"
      ]
    },
    {
      "cell_type": "code",
      "execution_count": 2,
      "metadata": {
        "colab": {
          "base_uri": "https://localhost:8080/"
        },
        "id": "j9lzOzeBdPKc",
        "outputId": "fea247c9-e473-4272-d768-4249bae9a670"
      },
      "outputs": [
        {
          "name": "stdout",
          "output_type": "stream",
          "text": [
            "kaylie\n"
          ]
        }
      ],
      "source": [
        "print(name)"
      ]
    },
    {
      "cell_type": "code",
      "execution_count": 3,
      "metadata": {
        "id": "DKQwqHuMdQYE"
      },
      "outputs": [],
      "source": [
        "name = \"kaylie\""
      ]
    },
    {
      "cell_type": "code",
      "execution_count": 4,
      "metadata": {
        "colab": {
          "base_uri": "https://localhost:8080/"
        },
        "id": "-y0FNTtYdTxV",
        "outputId": "3c3c721f-d00b-4e1c-8bbb-543ec1311d5c"
      },
      "outputs": [
        {
          "name": "stdout",
          "output_type": "stream",
          "text": [
            "kaylie\n"
          ]
        }
      ],
      "source": [
        "print(name)"
      ]
    },
    {
      "cell_type": "markdown",
      "metadata": {
        "id": "qt-M61IMddqX"
      },
      "source": [
        "|Escape sequence|Description|\n",
        "|-----|-----|\n",
        "|\\\\'|Single quote|\n",
        "|\\\\\"|Double quote|\n",
        "|\\\\\\\\|Backslash|\n",
        "|\\t|Tab|\n",
        "|\\n|Newline|\n",
        "|\\r|Carriage return|"
      ]
    },
    {
      "cell_type": "code",
      "execution_count": 8,
      "metadata": {
        "colab": {
          "base_uri": "https://localhost:8080/"
        },
        "id": "bnkwGdbHdU4U",
        "outputId": "f13be7ba-f0aa-466a-ad28-8f37d3fbbf3d"
      },
      "outputs": [
        {
          "name": "stdout",
          "output_type": "stream",
          "text": [
            "\tThis string won't result in an error thanks to the escape sequence\n"
          ]
        }
      ],
      "source": [
        "print('\\tThis string won\\'t result in an error thanks to the escape sequence')"
      ]
    },
    {
      "cell_type": "code",
      "execution_count": 9,
      "metadata": {
        "colab": {
          "base_uri": "https://localhost:8080/",
          "height": 35
        },
        "id": "KT_012Hbd8TZ",
        "outputId": "aa00ad4a-0fa7-4c23-dd1b-60efbacbbc22"
      },
      "outputs": [
        {
          "data": {
            "application/vnd.google.colaboratory.intrinsic+json": {
              "type": "string"
            },
            "text/plain": [
              "'hahaha'"
            ]
          },
          "execution_count": 9,
          "metadata": {},
          "output_type": "execute_result"
        }
      ],
      "source": [
        "'ha' * 3"
      ]
    },
    {
      "cell_type": "code",
      "execution_count": 10,
      "metadata": {
        "colab": {
          "base_uri": "https://localhost:8080/"
        },
        "id": "e3gnkYdaeSvK",
        "outputId": "4af794e3-a0d4-4184-f167-0425d809cad3"
      },
      "outputs": [
        {
          "data": {
            "text/plain": [
              "False"
            ]
          },
          "execution_count": 10,
          "metadata": {},
          "output_type": "execute_result"
        }
      ],
      "source": [
        "'ha' == 'na'"
      ]
    },
    {
      "cell_type": "code",
      "execution_count": 11,
      "metadata": {
        "id": "Zeym_ar2eXBP"
      },
      "outputs": [],
      "source": [
        "first_name = 'Tong'"
      ]
    },
    {
      "cell_type": "code",
      "execution_count": 13,
      "metadata": {
        "colab": {
          "base_uri": "https://localhost:8080/",
          "height": 35
        },
        "id": "-FemM--yeiji",
        "outputId": "5f655415-5018-452b-a3f9-527712cbc112"
      },
      "outputs": [
        {
          "data": {
            "application/vnd.google.colaboratory.intrinsic+json": {
              "type": "string"
            },
            "text/plain": [
              "'g'"
            ]
          },
          "execution_count": 13,
          "metadata": {},
          "output_type": "execute_result"
        }
      ],
      "source": [
        "first_name[3]"
      ]
    },
    {
      "cell_type": "code",
      "execution_count": 14,
      "metadata": {
        "colab": {
          "base_uri": "https://localhost:8080/"
        },
        "id": "VDH-FetKeox-",
        "outputId": "cc7e969f-d353-4f28-fe99-828740248028"
      },
      "outputs": [
        {
          "name": "stdout",
          "output_type": "stream",
          "text": [
            "fish\n"
          ]
        }
      ],
      "source": [
        "print('fish')"
      ]
    },
    {
      "cell_type": "code",
      "execution_count": 15,
      "metadata": {
        "colab": {
          "base_uri": "https://localhost:8080/"
        },
        "id": "kFw3qsDme5iL",
        "outputId": "40e17aec-d549-4dea-d9e7-fb47a26a891e"
      },
      "outputs": [
        {
          "name": "stdout",
          "output_type": "stream",
          "text": [
            "1 fish 2 fish\n"
          ]
        }
      ],
      "source": [
        "print(1, 'fish', 2, 'fish')"
      ]
    },
    {
      "cell_type": "code",
      "execution_count": 23,
      "metadata": {
        "colab": {
          "base_uri": "https://localhost:8080/"
        },
        "id": "lWAeVkixe-Ku",
        "outputId": "1c48b96b-fc38-41ba-a667-a58a11c18032"
      },
      "outputs": [
        {
          "data": {
            "text/plain": [
              "8"
            ]
          },
          "execution_count": 23,
          "metadata": {},
          "output_type": "execute_result"
        }
      ],
      "source": [
        "len('Kaylie\\'s')"
      ]
    },
    {
      "cell_type": "code",
      "execution_count": 24,
      "metadata": {
        "colab": {
          "base_uri": "https://localhost:8080/",
          "height": 35
        },
        "id": "xot3li5rfxfb",
        "outputId": "8c82e2d9-9a66-4294-bac2-d2020726a52e"
      },
      "outputs": [
        {
          "data": {
            "application/vnd.google.colaboratory.intrinsic+json": {
              "type": "string"
            },
            "text/plain": [
              "'I AM NOT YELLING'"
            ]
          },
          "execution_count": 24,
          "metadata": {},
          "output_type": "execute_result"
        }
      ],
      "source": [
        "'I am not yelling'.upper()"
      ]
    },
    {
      "cell_type": "code",
      "execution_count": 27,
      "metadata": {
        "colab": {
          "base_uri": "https://localhost:8080/"
        },
        "id": "9D4nw12YgdpV",
        "outputId": "e810b2a4-6012-4a18-8cc3-5005d14c58c2"
      },
      "outputs": [
        {
          "data": {
            "text/plain": [
              "2"
            ]
          },
          "execution_count": 27,
          "metadata": {},
          "output_type": "execute_result"
        }
      ],
      "source": [
        "'This string is unusual'.count('is')"
      ]
    },
    {
      "cell_type": "code",
      "execution_count": 29,
      "metadata": {
        "colab": {
          "base_uri": "https://localhost:8080/"
        },
        "id": "q6VITuNqgy9F",
        "outputId": "9a4f3dc8-b413-48f0-aeec-209569f4c926"
      },
      "outputs": [
        {
          "data": {
            "text/plain": [
              "False"
            ]
          },
          "execution_count": 29,
          "metadata": {},
          "output_type": "execute_result"
        }
      ],
      "source": [
        "'file_name.csv'.endswith('.docx')"
      ]
    },
    {
      "cell_type": "code",
      "execution_count": 30,
      "metadata": {
        "colab": {
          "base_uri": "https://localhost:8080/",
          "height": 35
        },
        "id": "Tsb22tfxhD2s",
        "outputId": "f348f5c4-8ba1-4039-bd0e-a5e1824e014b"
      },
      "outputs": [
        {
          "data": {
            "application/vnd.google.colaboratory.intrinsic+json": {
              "type": "string"
            },
            "text/plain": [
              "'long_file_name_with_spaces.csv'"
            ]
          },
          "execution_count": 30,
          "metadata": {},
          "output_type": "execute_result"
        }
      ],
      "source": [
        "'long file name with spaces.csv'.replace(' ', '_')"
      ]
    },
    {
      "cell_type": "code",
      "execution_count": 52,
      "metadata": {
        "colab": {
          "base_uri": "https://localhost:8080/",
          "height": 35
        },
        "id": "moDyfw1uiErn",
        "outputId": "b1cc44a8-a190-45fa-d235-ca71a1c22c25"
      },
      "outputs": [
        {
          "data": {
            "application/vnd.google.colaboratory.intrinsic+json": {
              "type": "string"
            },
            "text/plain": [
              "\"Kaylie Lau's initials are L. K.\""
            ]
          },
          "execution_count": 52,
          "metadata": {},
          "output_type": "execute_result"
        }
      ],
      "source": [
        "'Kaylie Lau\\'s initials are {}. {}.'.format('Lau'[0], 'Kaylie'[0])"
      ]
    },
    {
      "cell_type": "code",
      "execution_count": 37,
      "metadata": {
        "id": "ykUasRb0i47q"
      },
      "outputs": [],
      "source": [
        "course_number = 3"
      ]
    },
    {
      "cell_type": "code",
      "execution_count": 38,
      "metadata": {
        "colab": {
          "base_uri": "https://localhost:8080/",
          "height": 35
        },
        "id": "ezMIaVsTimS3",
        "outputId": "530d39eb-c898-42fd-dcb9-4f613c33996c"
      },
      "outputs": [
        {
          "data": {
            "application/vnd.google.colaboratory.intrinsic+json": {
              "type": "string"
            },
            "text/plain": [
              "'This is the 3 course in the DSI certificate'"
            ]
          },
          "execution_count": 38,
          "metadata": {},
          "output_type": "execute_result"
        }
      ],
      "source": [
        "'This is the {} course in the DSI certificate'.format(course_number)"
      ]
    },
    {
      "cell_type": "code",
      "execution_count": 41,
      "metadata": {
        "id": "xDl-uvZHjzzl"
      },
      "outputs": [],
      "source": [
        "first_initial = \"Kaylie\"[0]\n",
        "last_initial = \"Lau\"[0]"
      ]
    },
    {
      "cell_type": "code",
      "execution_count": 42,
      "metadata": {
        "colab": {
          "base_uri": "https://localhost:8080/",
          "height": 35
        },
        "id": "QKBzCecWjPwr",
        "outputId": "a4e0b91c-1e24-4e0b-85d2-33665c150991"
      },
      "outputs": [
        {
          "data": {
            "application/vnd.google.colaboratory.intrinsic+json": {
              "type": "string"
            },
            "text/plain": [
              "\"Kaylie Lau's initials are K. L.\""
            ]
          },
          "execution_count": 42,
          "metadata": {},
          "output_type": "execute_result"
        }
      ],
      "source": [
        "f'Kaylie Lau\\'s initials are {first_initial}. {last_initial}.'"
      ]
    },
    {
      "cell_type": "code",
      "execution_count": 43,
      "metadata": {
        "colab": {
          "base_uri": "https://localhost:8080/"
        },
        "id": "mvBnYSQdkQsB",
        "outputId": "54a76a57-d743-4d42-933a-93cf3e69d9b7"
      },
      "outputs": [
        {
          "name": "stdout",
          "output_type": "stream",
          "text": [
            "Help on method_descriptor:\n",
            "\n",
            "lower(self, /)\n",
            "    Return a copy of the string converted to lowercase.\n",
            "\n"
          ]
        }
      ],
      "source": [
        "help(str.lower)"
      ]
    },
    {
      "cell_type": "code",
      "execution_count": 54,
      "metadata": {
        "colab": {
          "base_uri": "https://localhost:8080/"
        },
        "id": "sNSFanDNkYVb",
        "outputId": "5306dc8b-1a27-417c-ea14-8440479d174e"
      },
      "outputs": [
        {
          "name": "stdout",
          "output_type": "stream",
          "text": [
            "What is your favourite colour? purple\n"
          ]
        }
      ],
      "source": [
        "age = input('What is your favourite colour? ')"
      ]
    },
    {
      "cell_type": "code",
      "execution_count": 49,
      "metadata": {
        "colab": {
          "base_uri": "https://localhost:8080/",
          "height": 35
        },
        "id": "ocRuD1K9kuC2",
        "outputId": "9ea6744f-3e69-42d1-fd7f-e76851a8e020"
      },
      "outputs": [
        {
          "data": {
            "application/vnd.google.colaboratory.intrinsic+json": {
              "type": "string"
            },
            "text/plain": [
              "'1000'"
            ]
          },
          "execution_count": 49,
          "metadata": {},
          "output_type": "execute_result"
        }
      ],
      "source": [
        "age"
      ]
    },
    {
      "cell_type": "code",
      "execution_count": 50,
      "metadata": {
        "id": "hwBpmtBUkvfV"
      },
      "outputs": [],
      "source": [
        "age_next_bday = int(age) + 1"
      ]
    },
    {
      "cell_type": "code",
      "execution_count": 51,
      "metadata": {
        "colab": {
          "base_uri": "https://localhost:8080/"
        },
        "id": "6sG3GmDok5cl",
        "outputId": "3b364c21-1e63-43bc-8db3-ec0581d57131"
      },
      "outputs": [
        {
          "name": "stdout",
          "output_type": "stream",
          "text": [
            "Next birthday you will be 1001\n"
          ]
        }
      ],
      "source": [
        "print('Next birthday you will be {}'.format(age_next_bday))"
      ]
    },
    {
      "cell_type": "markdown",
      "metadata": {
        "id": "COaYMhakmRei"
      },
      "source": [
        "## `not`\n",
        "\n",
        "|X|`not` X|\n",
        "|-|-|\n",
        "|True|False|\n",
        "|False|True|"
      ]
    },
    {
      "cell_type": "code",
      "execution_count": 57,
      "metadata": {
        "colab": {
          "base_uri": "https://localhost:8080/"
        },
        "id": "_gCbF1RSmIG1",
        "outputId": "b32b3ea0-d0b0-48ff-82ba-35c77c68b4de"
      },
      "outputs": [
        {
          "data": {
            "text/plain": [
              "True"
            ]
          },
          "execution_count": 57,
          "metadata": {},
          "output_type": "execute_result"
        }
      ],
      "source": [
        "not False"
      ]
    },
    {
      "cell_type": "code",
      "execution_count": 58,
      "metadata": {
        "colab": {
          "base_uri": "https://localhost:8080/"
        },
        "id": "QTudMoMSmop7",
        "outputId": "b9a44790-7a0c-4b65-cfd4-fa7e6472277c"
      },
      "outputs": [
        {
          "data": {
            "text/plain": [
              "True"
            ]
          },
          "execution_count": 58,
          "metadata": {},
          "output_type": "execute_result"
        }
      ],
      "source": [
        "3 == 3"
      ]
    },
    {
      "cell_type": "code",
      "execution_count": 59,
      "metadata": {
        "colab": {
          "base_uri": "https://localhost:8080/"
        },
        "id": "MHJ85KSFmwQ6",
        "outputId": "cf9fdce4-7c5d-4799-e953-5951b71220f2"
      },
      "outputs": [
        {
          "data": {
            "text/plain": [
              "False"
            ]
          },
          "execution_count": 59,
          "metadata": {},
          "output_type": "execute_result"
        }
      ],
      "source": [
        "not (3 == 3)"
      ]
    },
    {
      "cell_type": "markdown",
      "metadata": {
        "id": "bHFc7X5Em6Eo"
      },
      "source": [
        "## `and`\n",
        "\n",
        "Evaluates to `True` if both statements are true.\n",
        "\n",
        "|X|Y|X `and` Y|\n",
        "|-|-|-|\n",
        "|True|True|True|\n",
        "|False|True|False|\n",
        "|True|False|False|\n",
        "|False|False|False|"
      ]
    },
    {
      "cell_type": "code",
      "execution_count": 62,
      "metadata": {
        "colab": {
          "base_uri": "https://localhost:8080/"
        },
        "id": "m3J0-zDjm7GU",
        "outputId": "4d06e3c3-1858-4cb5-a585-d2fc23d74e76"
      },
      "outputs": [
        {
          "data": {
            "text/plain": [
              "True"
            ]
          },
          "execution_count": 62,
          "metadata": {},
          "output_type": "execute_result"
        }
      ],
      "source": [
        "7 == 7.0 and 32 > 9"
      ]
    },
    {
      "cell_type": "code",
      "execution_count": 60,
      "metadata": {
        "colab": {
          "base_uri": "https://localhost:8080/"
        },
        "id": "_SVLpYfBnOSQ",
        "outputId": "4e9226dd-b07e-4eaf-d926-65094adcd597"
      },
      "outputs": [
        {
          "data": {
            "text/plain": [
              "True"
            ]
          },
          "execution_count": 60,
          "metadata": {},
          "output_type": "execute_result"
        }
      ],
      "source": [
        "7 == 7.0"
      ]
    },
    {
      "cell_type": "code",
      "execution_count": 61,
      "metadata": {
        "colab": {
          "base_uri": "https://localhost:8080/"
        },
        "id": "hsugChgjnT78",
        "outputId": "bb5e0843-f7b9-4d6a-f966-d5a59b4dd146"
      },
      "outputs": [
        {
          "data": {
            "text/plain": [
              "True"
            ]
          },
          "execution_count": 61,
          "metadata": {},
          "output_type": "execute_result"
        }
      ],
      "source": [
        "32 > 9"
      ]
    },
    {
      "cell_type": "code",
      "execution_count": 73,
      "metadata": {
        "colab": {
          "base_uri": "https://localhost:8080/"
        },
        "id": "QjvO11yvnbIL",
        "outputId": "546d79d7-d719-4ba8-f95e-6d1223c19624"
      },
      "outputs": [
        {
          "data": {
            "text/plain": [
              "False"
            ]
          },
          "execution_count": 73,
          "metadata": {},
          "output_type": "execute_result"
        }
      ],
      "source": [
        "'Python' == 'python' and True"
      ]
    },
    {
      "cell_type": "code",
      "execution_count": 1,
      "metadata": {
        "colab": {
          "base_uri": "https://localhost:8080/"
        },
        "id": "tGbBm_tZnqnS",
        "outputId": "bb572828-5dc1-4b6e-de92-da77fd047bc1"
      },
      "outputs": [
        {
          "data": {
            "text/plain": [
              "True"
            ]
          },
          "execution_count": 1,
          "metadata": {},
          "output_type": "execute_result"
        }
      ],
      "source": [
        "is_summer = True\n",
        "is_sunny = True\n",
        "is_summer and is_sunny"
      ]
    },
    {
      "cell_type": "code",
      "execution_count": 8,
      "metadata": {
        "colab": {
          "base_uri": "https://localhost:8080/"
        },
        "id": "ZYwwyLEUphwh",
        "outputId": "38c5b20f-5251-4be7-cbc8-9bdfbcf7965c"
      },
      "outputs": [
        {
          "data": {
            "text/plain": [
              "True"
            ]
          },
          "execution_count": 8,
          "metadata": {},
          "output_type": "execute_result"
        }
      ],
      "source": [
        "is_winter = \"True\"\n",
        "is_cloudy = True\n",
        "is_winter and is_cloudy"
      ]
    },
    {
      "cell_type": "markdown",
      "metadata": {
        "id": "_8URKSA0n2Wa"
      },
      "source": [
        "## `or`\n",
        "\n",
        "Evaluates to `True` if just one of the statements is true.\n",
        "\n",
        "|X|Y|X `or` Y|\n",
        "|-|-|-|\n",
        "|True|True|True|\n",
        "|False|True|True|\n",
        "|True|False|True|\n",
        "|False|False|False|"
      ]
    },
    {
      "cell_type": "code",
      "execution_count": 72,
      "metadata": {
        "colab": {
          "base_uri": "https://localhost:8080/"
        },
        "id": "bOi1SCD3nxTp",
        "outputId": "581eff82-43d1-4b53-96c1-23b0e38e462b"
      },
      "outputs": [
        {
          "data": {
            "text/plain": [
              "True"
            ]
          },
          "execution_count": 72,
          "metadata": {},
          "output_type": "execute_result"
        }
      ],
      "source": [
        "'python' == 'python' or True"
      ]
    },
    {
      "cell_type": "code",
      "execution_count": 71,
      "metadata": {
        "colab": {
          "base_uri": "https://localhost:8080/"
        },
        "id": "9OtyOXYfoirJ",
        "outputId": "7d91d896-a2ae-4004-ce57-18d89b38d094"
      },
      "outputs": [
        {
          "data": {
            "text/plain": [
              "True"
            ]
          },
          "execution_count": 71,
          "metadata": {},
          "output_type": "execute_result"
        }
      ],
      "source": [
        "'python' == 'python'"
      ]
    },
    {
      "cell_type": "code",
      "execution_count": 68,
      "metadata": {
        "colab": {
          "base_uri": "https://localhost:8080/"
        },
        "id": "evMzjvUBooaS",
        "outputId": "e7980864-62ee-4922-e934-045b8ff55a49"
      },
      "outputs": [
        {
          "data": {
            "text/plain": [
              "True"
            ]
          },
          "execution_count": 68,
          "metadata": {},
          "output_type": "execute_result"
        }
      ],
      "source": [
        "False or True"
      ]
    },
    {
      "cell_type": "code",
      "execution_count": 80,
      "metadata": {
        "colab": {
          "base_uri": "https://localhost:8080/"
        },
        "id": "HHYI99MwoYUS",
        "outputId": "7378b49c-cd98-4c6b-81c1-89b0911b7502"
      },
      "outputs": [
        {
          "data": {
            "text/plain": [
              "False"
            ]
          },
          "execution_count": 80,
          "metadata": {},
          "output_type": "execute_result"
        }
      ],
      "source": [
        "not (7 % 2 == 1) or False"
      ]
    },
    {
      "cell_type": "code",
      "execution_count": 83,
      "metadata": {
        "colab": {
          "base_uri": "https://localhost:8080/"
        },
        "id": "W_AgmfLuqQZX",
        "outputId": "38645240-f386-4537-e716-59f9ceb0030f"
      },
      "outputs": [
        {
          "data": {
            "text/plain": [
              "False"
            ]
          },
          "execution_count": 83,
          "metadata": {},
          "output_type": "execute_result"
        }
      ],
      "source": [
        "not (7 % 2 == 1) or False"
      ]
    },
    {
      "cell_type": "markdown",
      "metadata": {
        "id": "a8fpqaZZql5Z"
      },
      "source": [
        "\n",
        "| Order | Operator | Description |\n",
        "|---|---|---|\n",
        "| 1 | `**` | Exponentiation |\n",
        "| 2 | `-`| Negation |\n",
        "| 3 | `*`, `/`, `//`, `%` | Multiplication, division, integer division, and modulo |\n",
        "| 4 | `+`, `-` | Addition and subtraction |\n",
        "| 5 | `<`, `<=`, `>`, `>=`, `==`, `!=` | Less than, less than or equal to, greater than, greater than or equal to, equal, not equal |\n",
        "| 6 | `not` | Not |\n",
        "| 7 | `and` | And |\n",
        "| 8 | `or` | Or|"
      ]
    },
    {
      "cell_type": "code",
      "execution_count": 85,
      "metadata": {
        "id": "-flnx7jJrCm4"
      },
      "outputs": [],
      "source": [
        "year = 1923\n",
        "\n",
        "if year >= 2000:\n",
        "  print('We are in the 21st century.')"
      ]
    },
    {
      "cell_type": "code",
      "execution_count": 86,
      "metadata": {
        "colab": {
          "base_uri": "https://localhost:8080/"
        },
        "id": "kyabIFp0rpjy",
        "outputId": "694798ef-b893-434b-cf8c-178c8378ae04"
      },
      "outputs": [
        {
          "name": "stdout",
          "output_type": "stream",
          "text": [
            "We are not in the 21st century.\n"
          ]
        }
      ],
      "source": [
        "year = 1999\n",
        "\n",
        "if year >= 2000:\n",
        "  print('We are in the 21st century.')\n",
        "else:\n",
        "  print('We are not in the 21st century.')"
      ]
    },
    {
      "cell_type": "code",
      "execution_count": 87,
      "metadata": {
        "colab": {
          "base_uri": "https://localhost:8080/"
        },
        "id": "RrK_PgN_sKop",
        "outputId": "63f2aea3-94aa-40a4-8832-e3d900c5f36c"
      },
      "outputs": [
        {
          "name": "stdout",
          "output_type": "stream",
          "text": [
            "It is not January.\n"
          ]
        }
      ],
      "source": [
        "month = 'December'\n",
        "\n",
        "if month == 'January':\n",
        "  print('It is January.')\n",
        "else:\n",
        "  print('It is not January.')"
      ]
    },
    {
      "cell_type": "code",
      "execution_count": 90,
      "metadata": {
        "colab": {
          "base_uri": "https://localhost:8080/"
        },
        "id": "-DMYltavsfMV",
        "outputId": "9dbf6f3f-5f72-4431-9fc0-93b921bdd495"
      },
      "outputs": [
        {
          "name": "stdout",
          "output_type": "stream",
          "text": [
            "We are in the 21st century.\n"
          ]
        }
      ],
      "source": [
        "year = 2005\n",
        "\n",
        "if year >= 2000:\n",
        "  print('We are in the 21st century.')\n",
        "elif year >= 1900:\n",
        "  print('We are in the 20th century.')\n",
        "elif year >= 1800:\n",
        "  print('We are in the 19th century.')\n",
        "else:\n",
        "  print('We have gone way back in time!')"
      ]
    },
    {
      "cell_type": "code",
      "execution_count": 91,
      "metadata": {
        "colab": {
          "base_uri": "https://localhost:8080/"
        },
        "id": "2kqj2dyBtVJm",
        "outputId": "52c72ae1-64d0-4bd0-c74d-23e78ea856fd"
      },
      "outputs": [
        {
          "name": "stdout",
          "output_type": "stream",
          "text": [
            "Weekday\n"
          ]
        }
      ],
      "source": [
        "day_of_week = 'Thursday'\n",
        "\n",
        "if day_of_week == 'Saturday' or day_of_week == 'Sunday':\n",
        "  print('Weekend')\n",
        "else:\n",
        "  print('Weekday')"
      ]
    },
    {
      "cell_type": "code",
      "execution_count": 92,
      "metadata": {
        "colab": {
          "base_uri": "https://localhost:8080/"
        },
        "id": "ddyYTxvruByd",
        "outputId": "7bb72832-2474-40a0-f142-d66cf825ca65"
      },
      "outputs": [
        {
          "data": {
            "text/plain": [
              "False"
            ]
          },
          "execution_count": 92,
          "metadata": {},
          "output_type": "execute_result"
        }
      ],
      "source": [
        "False or False"
      ]
    },
    {
      "cell_type": "code",
      "execution_count": 132,
      "metadata": {
        "id": "jZw7C8-EuDJG"
      },
      "outputs": [],
      "source": [
        "# age --> int\n",
        "# qualifying_condition --> bool i.e., True or False\n",
        "# time_since_last_exam --> int\n",
        "\n",
        "\n",
        "def eye_exam_covered(age, qualifying_condition, time_since_last_exam):\n",
        "  # For ages 0-19: Covered annually\n",
        "  if age <= 19 and time_since_last_exam >= 12:\n",
        "    return True\n",
        "\n",
        "  # For ages 20-64: Covered annually if you have a sight-threatening condition\n",
        "  elif 20 <= age <= 64:\n",
        "    if qualifying_condition and (time_since_last_exam >= 12):\n",
        "      return True\n",
        "\n",
        "  # For ages 65 and older: Covered annually with a sight-threatening condition\n",
        "  # OR every 18 months for those with healthy eyes\n",
        "  elif age >= 65:\n",
        "    if qualifying_condition and time_since_last_exam >= 12:\n",
        "      return True\n",
        "    elif time_since_last_exam >=18:\n",
        "      return True\n",
        "\n",
        "  https://www.geeksforgeeks.org/g-fact-43-logical-operators-on-string-in-python/\n",
        "\n"
      ]
    },
    {
      "cell_type": "code",
      "execution_count": 133,
      "metadata": {
        "colab": {
          "base_uri": "https://localhost:8080/"
        },
        "id": "m7P2lzF_4e-C",
        "outputId": "6ea9577d-43fd-47fd-da8d-e399bcd77e22"
      },
      "outputs": [
        {
          "name": "stdout",
          "output_type": "stream",
          "text": [
            "You are not covered\n"
          ]
        }
      ],
      "source": [
        "eye_exam_covered(20, False, 11)"
      ]
    },
    {
      "cell_type": "code",
      "execution_count": 121,
      "metadata": {
        "colab": {
          "base_uri": "https://localhost:8080/"
        },
        "id": "6GdPiZI95MZW",
        "outputId": "ea26beaf-fff8-446e-86f7-563f57e0cca6"
      },
      "outputs": [
        {
          "data": {
            "text/plain": [
              "True"
            ]
          },
          "execution_count": 121,
          "metadata": {},
          "output_type": "execute_result"
        }
      ],
      "source": [
        "eye_exam_covered(age=27, qualifying_condition=True, time_since_last_exam=24)"
      ]
    }
  ],
  "metadata": {
    "colab": {
      "provenance": []
    },
    "kernelspec": {
      "display_name": "Python 3",
      "name": "python3"
    },
    "language_info": {
      "name": "python"
    }
  },
  "nbformat": 4,
  "nbformat_minor": 0
}
