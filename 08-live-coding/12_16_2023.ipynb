{
  "cells": [
    {
      "cell_type": "markdown",
      "metadata": {},
      "source": [
        "# Introduction to Python- Live Coding\n",
        "\n",
        "**December 16, 2023**"
      ]
    },
    {
      "cell_type": "code",
      "execution_count": null,
      "metadata": {
        "colab": {
          "base_uri": "https://localhost:8080/"
        },
        "id": "pc49Ay_97uKD",
        "outputId": "3b516946-878a-40f0-a91b-b777b96ff20b"
      },
      "outputs": [
        {
          "name": "stdout",
          "output_type": "stream",
          "text": [
            "Give me an a!\n",
            "Give me an e!\n",
            "Give me an i!\n",
            "Give me an o!\n",
            "Give me an !\n"
          ]
        }
      ],
      "source": [
        "# for loop\n",
        "\n",
        "vowels = ['a', 'e', 'i', 'o', '']\n",
        "\n",
        "for i in vowels:\n",
        "  print(f'Give me an {i}!')"
      ]
    },
    {
      "cell_type": "code",
      "execution_count": 5,
      "metadata": {
        "colab": {
          "base_uri": "https://localhost:8080/"
        },
        "id": "gMl6B7ZI_Mn5",
        "outputId": "d4883f50-f135-454c-86c1-8726ad2ab3ce"
      },
      "outputs": [
        {
          "name": "stdout",
          "output_type": "stream",
          "text": [
            "0 0\n",
            "1 2\n",
            "2 4\n",
            "3 6\n",
            "4 8\n",
            "5 10\n",
            "6 12\n",
            "7 14\n",
            "8 16\n",
            "9 18\n"
          ]
        }
      ],
      "source": [
        "for i in range(10):\n",
        "  print(i, i*2)"
      ]
    },
    {
      "cell_type": "code",
      "execution_count": 10,
      "metadata": {
        "colab": {
          "base_uri": "https://localhost:8080/"
        },
        "id": "RguqSzAB_Mje",
        "outputId": "da6b0fad-64a9-4c49-9fd6-3b04a6d5c1bf"
      },
      "outputs": [
        {
          "name": "stdout",
          "output_type": "stream",
          "text": [
            "['processed_data_01.xlsx']\n",
            "['processed_data_01.xlsx', 'processed_data_02.xlsx']\n",
            "['processed_data_01.xlsx', 'processed_data_02.xlsx', 'processed_data_03.xlsx']\n",
            "['processed_data_01.xlsx', 'processed_data_02.xlsx', 'processed_data_03.xlsx', 'processed_data_04.xlsx']\n"
          ]
        }
      ],
      "source": [
        "input_files = ['data_01.csv', 'data_02.csv', 'data_03.csv', 'data_04.csv']\n",
        "output_files = []\n",
        "\n",
        "for i in input_files:\n",
        "  output_files_name = 'processed_' + i.replace('.csv', '.xlsx')\n",
        "  output_files.append(output_files_name)\n",
        "  print(output_files)"
      ]
    },
    {
      "cell_type": "code",
      "execution_count": 13,
      "metadata": {
        "colab": {
          "base_uri": "https://localhost:8080/"
        },
        "id": "O1Nt9WBbBCFQ",
        "outputId": "45588049-a0ed-4e5e-a0eb-85a5580d098b"
      },
      "outputs": [
        {
          "name": "stdout",
          "output_type": "stream",
          "text": [
            "Stop 2 is Bayview\n"
          ]
        }
      ],
      "source": [
        "stops = ['Sheppard-Yonge', 'Bayview', 'Bessarion', 'Leslie', 'Don Mills']\n",
        "\n",
        "for idx, stop in enumerate(stops):\n",
        "  if idx == 1:\n",
        "    print(f'Stop {idx + 1} is {stop}')"
      ]
    },
    {
      "cell_type": "code",
      "execution_count": 19,
      "metadata": {
        "colab": {
          "base_uri": "https://localhost:8080/",
          "height": 211
        },
        "id": "Lm9n8Kc4Bhn0",
        "outputId": "2ca84c5b-55fa-44f3-9add-737f6766c43f"
      },
      "outputs": [
        {
          "ename": "TypeError",
          "evalue": "ignored",
          "output_type": "error",
          "traceback": [
            "\u001b[0;31m---------------------------------------------------------------------------\u001b[0m",
            "\u001b[0;31mTypeError\u001b[0m                                 Traceback (most recent call last)",
            "\u001b[0;32m<ipython-input-19-135b4c0e9ae0>\u001b[0m in \u001b[0;36m<cell line: 4>\u001b[0;34m()\u001b[0m\n\u001b[1;32m      3\u001b[0m \u001b[0;34m\u001b[0m\u001b[0m\n\u001b[1;32m      4\u001b[0m \u001b[0;32mfor\u001b[0m \u001b[0mi\u001b[0m\u001b[0;34m,\u001b[0m \u001b[0mj\u001b[0m \u001b[0;32min\u001b[0m \u001b[0mzip\u001b[0m\u001b[0;34m(\u001b[0m\u001b[0mlats\u001b[0m\u001b[0;34m,\u001b[0m \u001b[0mlons\u001b[0m\u001b[0;34m)\u001b[0m\u001b[0;34m:\u001b[0m\u001b[0;34m\u001b[0m\u001b[0;34m\u001b[0m\u001b[0m\n\u001b[0;32m----> 5\u001b[0;31m   \u001b[0mprint\u001b[0m\u001b[0;34m(\u001b[0m\u001b[0;34mf'({tuple(i)})'\u001b[0m\u001b[0;34m)\u001b[0m\u001b[0;34m\u001b[0m\u001b[0;34m\u001b[0m\u001b[0m\n\u001b[0m",
            "\u001b[0;31mTypeError\u001b[0m: 'float' object is not iterable"
          ]
        }
      ],
      "source": [
        "lats = (43.640, 45.520, 49.280)\n",
        "lons = (-79.380, -73.570, -123.130, 0, -12.200)\n",
        "\n",
        "for i, j in zip(lats, lons):\n",
        "  print(f'({tuple(i,j)})')"
      ]
    },
    {
      "cell_type": "code",
      "execution_count": null,
      "metadata": {
        "id": "r3BCNVL4EN1y"
      },
      "outputs": [],
      "source": [
        "olympics_cities = {2020: 'Tokyo', 2016: 'Rio de Janiero', 2012: 'London'}\n",
        "olympics_cities"
      ]
    },
    {
      "cell_type": "code",
      "execution_count": 21,
      "metadata": {
        "colab": {
          "base_uri": "https://localhost:8080/"
        },
        "id": "Jd2NuWD7EYKL",
        "outputId": "ee3fd6d2-c5cd-4765-d8cb-624d3b5b6c23"
      },
      "outputs": [
        {
          "data": {
            "text/plain": [
              "{'summer': {2020: 'Tokyo', 2016: 'Rio de Janiero', 2012: 'London'},\n",
              " 'winter': {2022: 'Beijing', 2018: 'Pyeongchang'}}"
            ]
          },
          "execution_count": 21,
          "metadata": {},
          "output_type": "execute_result"
        }
      ],
      "source": [
        "all_olympics_hosts = {'summer': olympics_cities,\n",
        "                     'winter': {2022: 'Beijing', 2018: 'Pyeongchang'}}\n",
        "all_olympics_hosts"
      ]
    },
    {
      "cell_type": "code",
      "execution_count": 22,
      "metadata": {
        "colab": {
          "base_uri": "https://localhost:8080/"
        },
        "id": "c1VnBGIiEokF",
        "outputId": "f998e45d-2e00-4763-d56f-a96e85bf173c"
      },
      "outputs": [
        {
          "data": {
            "text/plain": [
              "dict_items([('summer', {2020: 'Tokyo', 2016: 'Rio de Janiero', 2012: 'London'}), ('winter', {2022: 'Beijing', 2018: 'Pyeongchang'})])"
            ]
          },
          "execution_count": 22,
          "metadata": {},
          "output_type": "execute_result"
        }
      ],
      "source": [
        "all_olympics_hosts.items()"
      ]
    },
    {
      "cell_type": "code",
      "execution_count": 23,
      "metadata": {
        "colab": {
          "base_uri": "https://localhost:8080/"
        },
        "id": "0HfsR42BEjds",
        "outputId": "70e918a9-2f06-42bf-a911-ffa5f8120556"
      },
      "outputs": [
        {
          "name": "stdout",
          "output_type": "stream",
          "text": [
            "The 2020 Summer Olympics were in Tokyo.\n",
            "The 2016 Summer Olympics were in Rio de Janiero.\n",
            "The 2012 Summer Olympics were in London.\n",
            "The 2022 Winter Olympics were in Beijing.\n",
            "The 2018 Winter Olympics were in Pyeongchang.\n"
          ]
        }
      ],
      "source": [
        "for key, value in all_olympics_hosts.items():\n",
        "  # key --> 'winter'\n",
        "  # value --> {2022: 'Beijing', 2018: 'Pyeongchang'}\n",
        "  for year, city in value.items():\n",
        "    # year --> '2018'\n",
        "    # city --> 'Pyeongchang'\n",
        "    print(f'The {year} {key.title()} Olympics were in {city}.')"
      ]
    },
    {
      "cell_type": "code",
      "execution_count": 24,
      "metadata": {
        "colab": {
          "base_uri": "https://localhost:8080/"
        },
        "id": "hl-ImMxEF5RK",
        "outputId": "42d393d2-3648-46cd-fcdb-92b80a3dc6b3"
      },
      "outputs": [
        {
          "name": "stdout",
          "output_type": "stream",
          "text": [
            "0 dog\n",
            "0 cat\n",
            "0 bird\n",
            "1 dog\n",
            "1 cat\n",
            "1 bird\n",
            "2 dog\n",
            "2 cat\n",
            "2 bird\n",
            "3 dog\n",
            "3 cat\n",
            "3 bird\n",
            "4 dog\n",
            "4 cat\n",
            "4 bird\n"
          ]
        }
      ],
      "source": [
        "for i in range(5):\n",
        "  # 2\n",
        "  for j in ['dog', 'cat', 'bird']:\n",
        "    # 'bird'\n",
        "    print(i, j)\n"
      ]
    },
    {
      "cell_type": "code",
      "execution_count": 25,
      "metadata": {
        "colab": {
          "base_uri": "https://localhost:8080/"
        },
        "id": "XCRHrbpzGKaD",
        "outputId": "874fb98c-0f42-4511-9979-2225bec14b66"
      },
      "outputs": [
        {
          "name": "stdout",
          "output_type": "stream",
          "text": [
            "4\n",
            "3\n",
            "2\n",
            "1\n"
          ]
        }
      ],
      "source": [
        "# while loops\n",
        "\n",
        "countdown = 4\n",
        "\n",
        "while countdown > 0:\n",
        "  print(countdown)\n",
        "  countdown -= 1"
      ]
    },
    {
      "cell_type": "code",
      "execution_count": 29,
      "metadata": {
        "colab": {
          "base_uri": "https://localhost:8080/"
        },
        "id": "zCTxiCoJHV0O",
        "outputId": "e4b4d399-ea1b-4ef5-9a02-15bd4ba95504"
      },
      "outputs": [
        {
          "name": "stdout",
          "output_type": "stream",
          "text": [
            "4\n"
          ]
        }
      ],
      "source": [
        "# run this on your own time to try it out\n",
        "# to interrupt this infinite loop: ctrl+m+i OR Runtime --> Interrupt execution\n",
        "countdown = 4\n",
        "\n",
        "while countdown > 0:\n",
        "  print(countdown)\n",
        "  break"
      ]
    },
    {
      "cell_type": "code",
      "execution_count": 27,
      "metadata": {
        "colab": {
          "base_uri": "https://localhost:8080/"
        },
        "id": "TM6ulKvlICQ-",
        "outputId": "229766eb-32de-4b15-e985-026b838a5b23"
      },
      "outputs": [
        {
          "name": "stdout",
          "output_type": "stream",
          "text": [
            "4\n",
            "3\n",
            "We are breaking the loop early.\n",
            "Done iterating\n"
          ]
        }
      ],
      "source": [
        "countdown = 4\n",
        "\n",
        "while countdown > 0:\n",
        "  print(countdown)\n",
        "  if countdown == 3:\n",
        "    print('We are breaking the loop early.')\n",
        "    break\n",
        "  countdown -= 1\n",
        "\n",
        "print('Done iterating')"
      ]
    },
    {
      "cell_type": "code",
      "execution_count": 31,
      "metadata": {
        "colab": {
          "base_uri": "https://localhost:8080/",
          "height": 478
        },
        "id": "FkFyBrd9JOL2",
        "outputId": "236ceee1-485a-40f3-c950-4cab6812ceea"
      },
      "outputs": [
        {
          "name": "stdout",
          "output_type": "stream",
          "text": [
            "Make a wish: infinite wishes\n",
            "You can't do that!\n",
            "Make a wish: INFINITE WISHES\n",
            "You can't do that!\n"
          ]
        },
        {
          "ename": "KeyboardInterrupt",
          "evalue": "ignored",
          "output_type": "error",
          "traceback": [
            "\u001b[0;31m---------------------------------------------------------------------------\u001b[0m",
            "\u001b[0;31mKeyboardInterrupt\u001b[0m                         Traceback (most recent call last)",
            "\u001b[0;32m<ipython-input-31-c202d155e094>\u001b[0m in \u001b[0;36m<cell line: 2>\u001b[0;34m()\u001b[0m\n\u001b[1;32m      1\u001b[0m \u001b[0mwishes\u001b[0m \u001b[0;34m=\u001b[0m \u001b[0;36m3\u001b[0m\u001b[0;34m\u001b[0m\u001b[0;34m\u001b[0m\u001b[0m\n\u001b[1;32m      2\u001b[0m \u001b[0;32mwhile\u001b[0m \u001b[0mwishes\u001b[0m \u001b[0;34m>\u001b[0m \u001b[0;36m0\u001b[0m\u001b[0;34m:\u001b[0m\u001b[0;34m\u001b[0m\u001b[0;34m\u001b[0m\u001b[0m\n\u001b[0;32m----> 3\u001b[0;31m   \u001b[0mwish\u001b[0m \u001b[0;34m=\u001b[0m \u001b[0minput\u001b[0m\u001b[0;34m(\u001b[0m\u001b[0;34m'Make a wish: '\u001b[0m\u001b[0;34m)\u001b[0m\u001b[0;34m\u001b[0m\u001b[0;34m\u001b[0m\u001b[0m\n\u001b[0m\u001b[1;32m      4\u001b[0m   \u001b[0;32mif\u001b[0m \u001b[0;34m'infinite wishes'\u001b[0m \u001b[0;32min\u001b[0m \u001b[0mwish\u001b[0m\u001b[0;34m.\u001b[0m\u001b[0mlower\u001b[0m\u001b[0;34m(\u001b[0m\u001b[0;34m)\u001b[0m\u001b[0;34m:\u001b[0m\u001b[0;34m\u001b[0m\u001b[0;34m\u001b[0m\u001b[0m\n\u001b[1;32m      5\u001b[0m     \u001b[0mprint\u001b[0m\u001b[0;34m(\u001b[0m\u001b[0;34m'You can\\'t do that!'\u001b[0m\u001b[0;34m)\u001b[0m\u001b[0;34m\u001b[0m\u001b[0;34m\u001b[0m\u001b[0m\n",
            "\u001b[0;32m/usr/local/lib/python3.10/dist-packages/ipykernel/kernelbase.py\u001b[0m in \u001b[0;36mraw_input\u001b[0;34m(self, prompt)\u001b[0m\n\u001b[1;32m    849\u001b[0m                 \u001b[0;34m\"raw_input was called, but this frontend does not support input requests.\"\u001b[0m\u001b[0;34m\u001b[0m\u001b[0;34m\u001b[0m\u001b[0m\n\u001b[1;32m    850\u001b[0m             )\n\u001b[0;32m--> 851\u001b[0;31m         return self._input_request(str(prompt),\n\u001b[0m\u001b[1;32m    852\u001b[0m             \u001b[0mself\u001b[0m\u001b[0;34m.\u001b[0m\u001b[0m_parent_ident\u001b[0m\u001b[0;34m,\u001b[0m\u001b[0;34m\u001b[0m\u001b[0;34m\u001b[0m\u001b[0m\n\u001b[1;32m    853\u001b[0m             \u001b[0mself\u001b[0m\u001b[0;34m.\u001b[0m\u001b[0m_parent_header\u001b[0m\u001b[0;34m,\u001b[0m\u001b[0;34m\u001b[0m\u001b[0;34m\u001b[0m\u001b[0m\n",
            "\u001b[0;32m/usr/local/lib/python3.10/dist-packages/ipykernel/kernelbase.py\u001b[0m in \u001b[0;36m_input_request\u001b[0;34m(self, prompt, ident, parent, password)\u001b[0m\n\u001b[1;32m    893\u001b[0m             \u001b[0;32mexcept\u001b[0m \u001b[0mKeyboardInterrupt\u001b[0m\u001b[0;34m:\u001b[0m\u001b[0;34m\u001b[0m\u001b[0;34m\u001b[0m\u001b[0m\n\u001b[1;32m    894\u001b[0m                 \u001b[0;31m# re-raise KeyboardInterrupt, to truncate traceback\u001b[0m\u001b[0;34m\u001b[0m\u001b[0;34m\u001b[0m\u001b[0m\n\u001b[0;32m--> 895\u001b[0;31m                 \u001b[0;32mraise\u001b[0m \u001b[0mKeyboardInterrupt\u001b[0m\u001b[0;34m(\u001b[0m\u001b[0;34m\"Interrupted by user\"\u001b[0m\u001b[0;34m)\u001b[0m \u001b[0;32mfrom\u001b[0m \u001b[0;32mNone\u001b[0m\u001b[0;34m\u001b[0m\u001b[0;34m\u001b[0m\u001b[0m\n\u001b[0m\u001b[1;32m    896\u001b[0m             \u001b[0;32mexcept\u001b[0m \u001b[0mException\u001b[0m \u001b[0;32mas\u001b[0m \u001b[0me\u001b[0m\u001b[0;34m:\u001b[0m\u001b[0;34m\u001b[0m\u001b[0;34m\u001b[0m\u001b[0m\n\u001b[1;32m    897\u001b[0m                 \u001b[0mself\u001b[0m\u001b[0;34m.\u001b[0m\u001b[0mlog\u001b[0m\u001b[0;34m.\u001b[0m\u001b[0mwarning\u001b[0m\u001b[0;34m(\u001b[0m\u001b[0;34m\"Invalid Message:\"\u001b[0m\u001b[0;34m,\u001b[0m \u001b[0mexc_info\u001b[0m\u001b[0;34m=\u001b[0m\u001b[0;32mTrue\u001b[0m\u001b[0;34m)\u001b[0m\u001b[0;34m\u001b[0m\u001b[0;34m\u001b[0m\u001b[0m\n",
            "\u001b[0;31mKeyboardInterrupt\u001b[0m: Interrupted by user"
          ]
        }
      ],
      "source": [
        "wishes = 3\n",
        "while wishes > 0:\n",
        "  wish = input('Make a wish: ')\n",
        "  if 'infinite wishes' in wish.lower():\n",
        "    print('You can\\'t do that!')\n",
        "    continue\n",
        "  else:\n",
        "    print('Wish granted.')\n",
        "  wishes -= 1\n",
        "\n",
        "print('You have used all your wishes.')\n"
      ]
    },
    {
      "cell_type": "code",
      "execution_count": 32,
      "metadata": {
        "id": "ulew0L4NLCJ5"
      },
      "outputs": [],
      "source": [
        "import math"
      ]
    },
    {
      "cell_type": "code",
      "execution_count": 33,
      "metadata": {
        "colab": {
          "base_uri": "https://localhost:8080/"
        },
        "id": "tqT6EQhXLwhN",
        "outputId": "88c7042c-6970-48b8-b45d-4a8aa7150032"
      },
      "outputs": [
        {
          "data": {
            "text/plain": [
              "3.141592653589793"
            ]
          },
          "execution_count": 33,
          "metadata": {},
          "output_type": "execute_result"
        }
      ],
      "source": [
        "math.pi"
      ]
    },
    {
      "cell_type": "code",
      "execution_count": 35,
      "metadata": {
        "colab": {
          "base_uri": "https://localhost:8080/"
        },
        "id": "SJY1xTaSL34a",
        "outputId": "14d9fe3a-1c9a-495a-86e5-9a8f5d8bed2b"
      },
      "outputs": [
        {
          "data": {
            "text/plain": [
              "4"
            ]
          },
          "execution_count": 35,
          "metadata": {},
          "output_type": "execute_result"
        }
      ],
      "source": [
        "math.gcd(232, 18356)"
      ]
    },
    {
      "cell_type": "code",
      "execution_count": 36,
      "metadata": {
        "colab": {
          "base_uri": "https://localhost:8080/",
          "height": 176
        },
        "id": "IT3GzFXqL7pt",
        "outputId": "ba0f9878-addb-447c-d89a-97b27f777e75"
      },
      "outputs": [
        {
          "ename": "NameError",
          "evalue": "ignored",
          "output_type": "error",
          "traceback": [
            "\u001b[0;31m---------------------------------------------------------------------------\u001b[0m",
            "\u001b[0;31mNameError\u001b[0m                                 Traceback (most recent call last)",
            "\u001b[0;32m<ipython-input-36-f84ab820532c>\u001b[0m in \u001b[0;36m<cell line: 1>\u001b[0;34m()\u001b[0m\n\u001b[0;32m----> 1\u001b[0;31m \u001b[0mpi\u001b[0m\u001b[0;34m\u001b[0m\u001b[0;34m\u001b[0m\u001b[0m\n\u001b[0m",
            "\u001b[0;31mNameError\u001b[0m: name 'pi' is not defined"
          ]
        }
      ],
      "source": [
        "pi"
      ]
    },
    {
      "cell_type": "code",
      "execution_count": 37,
      "metadata": {
        "colab": {
          "base_uri": "https://localhost:8080/",
          "height": 176
        },
        "id": "uRhbZFGWMBmI",
        "outputId": "c2477f46-c1c2-489e-b709-a62d4c93a4c5"
      },
      "outputs": [
        {
          "ename": "NameError",
          "evalue": "ignored",
          "output_type": "error",
          "traceback": [
            "\u001b[0;31m---------------------------------------------------------------------------\u001b[0m",
            "\u001b[0;31mNameError\u001b[0m                                 Traceback (most recent call last)",
            "\u001b[0;32m<ipython-input-37-bd49f96f0074>\u001b[0m in \u001b[0;36m<cell line: 1>\u001b[0;34m()\u001b[0m\n\u001b[0;32m----> 1\u001b[0;31m \u001b[0mgcd\u001b[0m\u001b[0;34m\u001b[0m\u001b[0;34m\u001b[0m\u001b[0m\n\u001b[0m",
            "\u001b[0;31mNameError\u001b[0m: name 'gcd' is not defined"
          ]
        }
      ],
      "source": [
        "gcd"
      ]
    },
    {
      "cell_type": "code",
      "execution_count": 38,
      "metadata": {
        "id": "XxgdUYQHMDR0"
      },
      "outputs": [],
      "source": [
        "from math import pi"
      ]
    },
    {
      "cell_type": "code",
      "execution_count": 40,
      "metadata": {
        "id": "-bai9QupMdbb"
      },
      "outputs": [],
      "source": [
        "from datetime import date"
      ]
    },
    {
      "cell_type": "code",
      "execution_count": 41,
      "metadata": {
        "colab": {
          "base_uri": "https://localhost:8080/"
        },
        "id": "x_KAkuCDMmZd",
        "outputId": "02c9dd5d-236d-4500-b712-18f03de55fc0"
      },
      "outputs": [
        {
          "name": "stdout",
          "output_type": "stream",
          "text": [
            "2023-12-16\n"
          ]
        }
      ],
      "source": [
        "print(date.today())"
      ]
    },
    {
      "cell_type": "code",
      "execution_count": 42,
      "metadata": {
        "id": "VAb-CLhWMu2a"
      },
      "outputs": [],
      "source": [
        "from datetime import datetime"
      ]
    },
    {
      "cell_type": "code",
      "execution_count": 43,
      "metadata": {
        "colab": {
          "base_uri": "https://localhost:8080/"
        },
        "id": "Sb_rtq51M2zH",
        "outputId": "354dfb87-f2f0-4977-b75b-001415841028"
      },
      "outputs": [
        {
          "name": "stdout",
          "output_type": "stream",
          "text": [
            "2023-12-16 15:16:58.893799\n"
          ]
        }
      ],
      "source": [
        "print(datetime.today())"
      ]
    },
    {
      "cell_type": "code",
      "execution_count": 44,
      "metadata": {
        "colab": {
          "base_uri": "https://localhost:8080/"
        },
        "id": "YUhP8UgDNAm0",
        "outputId": "514d2fa0-a3d8-493e-e4d0-7d139c5bb65e"
      },
      "outputs": [
        {
          "name": "stdout",
          "output_type": "stream",
          "text": [
            "2023-12-16 10:17:29.405585-05:00\n"
          ]
        }
      ],
      "source": [
        "from datetime import datetime\n",
        "import pytz\n",
        "\n",
        "# Get the current date and time in Toronto timezone\n",
        "toronto_timezone = pytz.timezone('America/Toronto')\n",
        "current_time = datetime.now(toronto_timezone)\n",
        "print(current_time)"
      ]
    },
    {
      "cell_type": "code",
      "execution_count": 45,
      "metadata": {
        "id": "2-Hsy3_5NUOQ"
      },
      "outputs": [],
      "source": [
        "import re"
      ]
    },
    {
      "cell_type": "code",
      "execution_count": 60,
      "metadata": {
        "id": "4Fb4AgOENg0A"
      },
      "outputs": [],
      "source": [
        "text = '''My favorite thing to do on nice days is program.\n",
        "Programming is fun as long as there aren't too many bugs!'''"
      ]
    },
    {
      "cell_type": "markdown",
      "metadata": {
        "id": "nB3bxyPkNsfn"
      },
      "source": [
        "| Character | Meaning |\n",
        "|---|---|\n",
        "| * | Match zero or more of the RE before |\n",
        "| + | Match one or more of the RE before |\n",
        "| ? | Match zero or one of the RE before |\n",
        "| \\ | Escape character |\n",
        "| \\d | Match any decimal digit |\n",
        "| \\s | Match any whitespace |\n",
        "| \\w | Match any word character (letters, digits, underscore) |\n",
        "| [aeiou] | Match any of the characters in brackets |"
      ]
    },
    {
      "cell_type": "code",
      "execution_count": 56,
      "metadata": {
        "colab": {
          "base_uri": "https://localhost:8080/"
        },
        "id": "q1xd1BwNNsCQ",
        "outputId": "8016011e-06f4-4912-f0a5-ff7eb41e9565"
      },
      "outputs": [
        {
          "name": "stdout",
          "output_type": "stream",
          "text": [
            "Text is about something else\n"
          ]
        }
      ],
      "source": [
        "if re.search('favou?rite', text):\n",
        "  print('Text includes favourites')\n",
        "else:\n",
        "  print('Text is about something else')"
      ]
    },
    {
      "cell_type": "code",
      "execution_count": 61,
      "metadata": {
        "colab": {
          "base_uri": "https://localhost:8080/"
        },
        "id": "O0kumAZeOjMC",
        "outputId": "86f4292f-52f9-42af-fc37-a606cd870cd0"
      },
      "outputs": [
        {
          "data": {
            "text/plain": [
              "['thing', 'Programming']"
            ]
          },
          "execution_count": 61,
          "metadata": {},
          "output_type": "execute_result"
        }
      ],
      "source": [
        "# match any word character (letters, digits, underscore)\n",
        "# match ZERO or MORE of the RE before\n",
        "\n",
        "re.findall('\\w*ing', text)"
      ]
    },
    {
      "cell_type": "markdown",
      "metadata": {
        "id": "6jubnDn5RUTI"
      },
      "source": [
        "| `open()` mode | Description |\n",
        "|---|---|\n",
        "|`'r'` | Read-only. Produces an error if the file does not already exist. |\n",
        "|`'w'` | Write. Creates a new file if one does not exist. If the file already exists, the current contents are deleted and overwritten. |\n",
        "|`'a'`| Append. Adds to an existing file. If the file does not exist, it will be created. |"
      ]
    },
    {
      "cell_type": "markdown",
      "metadata": {
        "id": "Ht-T8D4RSt3_"
      },
      "source": [
        "Paths can be absolute, like C:/Users/Owner/Documents/data/demo_data.csv, or relative, like data/demo_data.csv. Relative paths are relative to the folder the Python file is in -- if our code is not in Documents, data/demo_data.csv won't work.\n",
        "\n"
      ]
    },
    {
      "cell_type": "code",
      "execution_count": 62,
      "metadata": {
        "colab": {
          "base_uri": "https://localhost:8080/"
        },
        "id": "yehg5vh2RTdc",
        "outputId": "22870d60-a90a-4272-d739-135b8b67970e"
      },
      "outputs": [
        {
          "name": "stdout",
          "output_type": "stream",
          "text": [
            "Mounted at /content/drive\n"
          ]
        }
      ],
      "source": [
        "from google.colab import drive\n",
        "drive.mount('/content/drive')"
      ]
    },
    {
      "cell_type": "markdown",
      "metadata": {
        "id": "lCItZjZiTvUL"
      },
      "source": [
        "* `read()` returns the full file contents, which can be overwhelming for larger files.\n",
        "* `readline()` returns only the next line in the file. Python keeps track of where it is in the file.\n",
        "* `readlines()` returns the full file as a list. Each item is one line in the file.\n",
        "\n",
        "```\n",
        "`# This is formatted as code`\n",
        "```\n",
        "\n"
      ]
    },
    {
      "cell_type": "code",
      "execution_count": 68,
      "metadata": {
        "colab": {
          "base_uri": "https://localhost:8080/"
        },
        "id": "ekzUF-k3TW_l",
        "outputId": "634b35aa-b5c6-4f26-8c4e-0e748e7dda18"
      },
      "outputs": [
        {
          "name": "stdout",
          "output_type": "stream",
          "text": [
            "\"longitude\",\"latitude\",\"housing_median_age\",\"total_rooms\",\"total_bedrooms\",\"population\",\"households\",\"median_income\",\"median_house_value\"\n",
            "\n",
            "-122.050000,37.370000,27.000000,3885.000000,661.000000,1537.000000,606.000000,6.608500,344700.000000\n",
            "\n",
            "-118.300000,34.260000,43.000000,1510.000000,310.000000,809.000000,277.000000,3.599000,176500.000000\n",
            "\n",
            "-117.810000,33.780000,27.000000,3589.000000,507.000000,1484.000000,495.000000,5.793400,270500.000000\n",
            "\n",
            "-118.360000,33.820000,28.000000,67.000000,15.000000,49.000000,11.000000,6.135900,330000.000000\n",
            "\n"
          ]
        }
      ],
      "source": [
        "with open('/content/drive/MyDrive/Colab Notebooks/data/california_housing_test.csv', 'r') as f:\n",
        "    for i in range(5):\n",
        "      print(f.readline())"
      ]
    },
    {
      "cell_type": "markdown",
      "metadata": {
        "id": "T6IPKuMSUwrZ"
      },
      "source": [
        "* `write()` writes a string to file.\n",
        "* `writelines()` writes each item in an iterable to file, with no separating text in between."
      ]
    },
    {
      "cell_type": "code",
      "execution_count": 69,
      "metadata": {
        "id": "Ol17QP8DT10h"
      },
      "outputs": [],
      "source": [
        "provinces = ['BC', 'AB', 'SK', 'MB']\n",
        "with open('provinces.txt', 'w') as province_file:\n",
        "  province_file.writelines(provinces)"
      ]
    },
    {
      "cell_type": "code",
      "execution_count": 70,
      "metadata": {
        "colab": {
          "base_uri": "https://localhost:8080/"
        },
        "id": "eZkYZekUVGka",
        "outputId": "a2598a5e-3cfa-4374-8daf-fd12895d3d51"
      },
      "outputs": [
        {
          "name": "stdout",
          "output_type": "stream",
          "text": [
            "BCABSKMB\n"
          ]
        }
      ],
      "source": [
        "with open('provinces.txt', 'r') as province_file:\n",
        "  print(province_file.read())"
      ]
    },
    {
      "cell_type": "code",
      "execution_count": 71,
      "metadata": {
        "id": "O1HQ-T1WVX89"
      },
      "outputs": [],
      "source": [
        "import os"
      ]
    },
    {
      "cell_type": "code",
      "execution_count": 72,
      "metadata": {
        "colab": {
          "base_uri": "https://localhost:8080/",
          "height": 36
        },
        "id": "d85dMgV6VZiQ",
        "outputId": "636900c9-8b32-4c0d-d3e8-3a874f5969d2"
      },
      "outputs": [
        {
          "data": {
            "application/vnd.google.colaboratory.intrinsic+json": {
              "type": "string"
            },
            "text/plain": [
              "'/content'"
            ]
          },
          "execution_count": 72,
          "metadata": {},
          "output_type": "execute_result"
        }
      ],
      "source": [
        "os.getcwd()"
      ]
    },
    {
      "cell_type": "code",
      "execution_count": 73,
      "metadata": {
        "colab": {
          "base_uri": "https://localhost:8080/"
        },
        "id": "x-xPrNfNVcYj",
        "outputId": "015ac81c-8e55-4ddf-f02c-f4134838ad20"
      },
      "outputs": [
        {
          "data": {
            "text/plain": [
              "['.config', 'drive', 'provinces.txt', 'sample_data']"
            ]
          },
          "execution_count": 73,
          "metadata": {},
          "output_type": "execute_result"
        }
      ],
      "source": [
        "os.listdir()"
      ]
    },
    {
      "cell_type": "code",
      "execution_count": 75,
      "metadata": {
        "colab": {
          "base_uri": "https://localhost:8080/"
        },
        "id": "0A_ggklTVx86",
        "outputId": "ef6eea23-b90e-447c-b91d-e9e525eafad3"
      },
      "outputs": [
        {
          "data": {
            "text/plain": [
              "['README.md',\n",
              " 'anscombe.json',\n",
              " 'california_housing_test.csv',\n",
              " 'mnist_train_small.csv',\n",
              " 'mnist_test.csv',\n",
              " 'california_housing_train.csv']"
            ]
          },
          "execution_count": 75,
          "metadata": {},
          "output_type": "execute_result"
        }
      ],
      "source": [
        "os.listdir('sample_data')"
      ]
    },
    {
      "cell_type": "code",
      "execution_count": 74,
      "metadata": {
        "colab": {
          "base_uri": "https://localhost:8080/"
        },
        "id": "26lRLuQLViY4",
        "outputId": "0a344af7-d3fa-4481-dfc4-82a9d2e47d34"
      },
      "outputs": [
        {
          "name": "stdout",
          "output_type": "stream",
          "text": [
            "README.md\n",
            "anscombe.json\n",
            "california_housing_test.csv\n",
            "mnist_train_small.csv\n",
            "mnist_test.csv\n",
            "california_housing_train.csv\n"
          ]
        }
      ],
      "source": [
        "for i in os.listdir('sample_data'):\n",
        "  print(i)"
      ]
    },
    {
      "cell_type": "code",
      "execution_count": 78,
      "metadata": {
        "colab": {
          "base_uri": "https://localhost:8080/",
          "height": 36
        },
        "id": "JTulHMLnWTzZ",
        "outputId": "b54a8c8c-c1e1-4995-ecef-6ae545bb1851"
      },
      "outputs": [
        {
          "data": {
            "application/vnd.google.colaboratory.intrinsic+json": {
              "type": "string"
            },
            "text/plain": [
              "'/content'"
            ]
          },
          "execution_count": 78,
          "metadata": {},
          "output_type": "execute_result"
        }
      ],
      "source": [
        "os.getcwd()"
      ]
    },
    {
      "cell_type": "code",
      "execution_count": 79,
      "metadata": {
        "colab": {
          "base_uri": "https://localhost:8080/"
        },
        "id": "e1OkGQQxWZ5R",
        "outputId": "d9d6c6d7-a16e-4879-c89f-06713529b2ee"
      },
      "outputs": [
        {
          "data": {
            "text/plain": [
              "['README.md',\n",
              " 'anscombe.json',\n",
              " 'california_housing_test.csv',\n",
              " 'mnist_train_small.csv',\n",
              " 'mnist_test.csv',\n",
              " 'california_housing_train.csv']"
            ]
          },
          "execution_count": 79,
          "metadata": {},
          "output_type": "execute_result"
        }
      ],
      "source": [
        "os.listdir('sample_data')"
      ]
    },
    {
      "cell_type": "code",
      "execution_count": 76,
      "metadata": {
        "colab": {
          "base_uri": "https://localhost:8080/"
        },
        "id": "R16pIzQ1VuvL",
        "outputId": "018625ec-a672-41bf-9029-868d576c6ac5"
      },
      "outputs": [
        {
          "data": {
            "text/plain": [
              "['/content/sample_data/README.md',\n",
              " '/content/sample_data/anscombe.json',\n",
              " '/content/sample_data/california_housing_test.csv',\n",
              " '/content/sample_data/mnist_train_small.csv',\n",
              " '/content/sample_data/mnist_test.csv',\n",
              " '/content/sample_data/california_housing_train.csv']"
            ]
          },
          "execution_count": 76,
          "metadata": {},
          "output_type": "execute_result"
        }
      ],
      "source": [
        "cwd = os.getcwd()\n",
        "full_paths = []\n",
        "for i in os.listdir('sample_data'):\n",
        "  full_paths.append(os.path.join(cwd, 'sample_data', i))\n",
        "\n",
        "full_paths"
      ]
    },
    {
      "cell_type": "code",
      "execution_count": 83,
      "metadata": {
        "colab": {
          "base_uri": "https://localhost:8080/"
        },
        "id": "gzzvPJ8lWrI5",
        "outputId": "c030ed82-f2d3-4969-8d0a-d9bb9fbaa6a3"
      },
      "outputs": [
        {
          "name": "stdout",
          "output_type": "stream",
          "text": [
            "plants.txt already exists\n"
          ]
        }
      ],
      "source": [
        "text = 'Lavender is a small purple flower'\n",
        "if os.path.exists('plants.txt'):\n",
        "  print('plants.txt already exists')\n",
        "else:\n",
        "  with open('plants.txt', 'w') as f:\n",
        "    f.write(text)\n"
      ]
    },
    {
      "cell_type": "code",
      "execution_count": 85,
      "metadata": {
        "colab": {
          "base_uri": "https://localhost:8080/"
        },
        "id": "HsmV6osLXpn2",
        "outputId": "07dd8b94-4bc1-446b-f5b3-6d9ae98afa7e"
      },
      "outputs": [
        {
          "name": "stdout",
          "output_type": "stream",
          "text": [
            "Lavender is a small purple flower\n"
          ]
        }
      ],
      "source": [
        "with open('plants.txt', 'r') as f:\n",
        "  print(f.read())"
      ]
    },
    {
      "cell_type": "code",
      "execution_count": null,
      "metadata": {
        "id": "uqk_9H2JXatf"
      },
      "outputs": [],
      "source": [
        "# objects --> attributes & methods\n",
        "\n",
        "\n",
        "# classes --> how we model an object, template that defines an\n",
        "# object's attributes and methods\n",
        "\n",
        "# class BasketballPlayer\n",
        "# attributes: position, team, jersey_number\n",
        "# methods: dribble(),shoot(), pass_ball(player)"
      ]
    },
    {
      "cell_type": "code",
      "execution_count": 86,
      "metadata": {
        "id": "xW8ZNhiMYfMP"
      },
      "outputs": [],
      "source": [
        "class Dataset:\n",
        "  '''Data values and methods to summarize them'''\n",
        "\n",
        "  def __init__(self, values):\n",
        "    '''Create a new dataset with values as list'''\n",
        "    self.values = values\n",
        "    self.size = len(values)\n",
        "\n",
        "  def unique(self):\n",
        "    '''Return a list of unique values'''\n",
        "    return list(set(self.values))\n",
        "\n",
        "  def mean(self):\n",
        "    '''Return the mean of all numeric values'''\n",
        "    numbers = []\n",
        "\n",
        "    for i in self.values:\n",
        "      if type(i) is int or type(i) is float:\n",
        "        numbers.append(i)\n",
        "\n",
        "    return sum(numbers)/len(numbers)\n"
      ]
    },
    {
      "cell_type": "code",
      "execution_count": 87,
      "metadata": {
        "id": "OPQk1XbDZys7"
      },
      "outputs": [],
      "source": [
        "grades = Dataset([90, 87, 70, 70, 87, 'A'])"
      ]
    },
    {
      "cell_type": "code",
      "execution_count": 88,
      "metadata": {
        "colab": {
          "base_uri": "https://localhost:8080/"
        },
        "id": "-qlVoFCzaJgs",
        "outputId": "d22a257e-2ccd-46e7-ec71-3707662c08c0"
      },
      "outputs": [
        {
          "name": "stdout",
          "output_type": "stream",
          "text": [
            "6\n"
          ]
        }
      ],
      "source": [
        "print(grades.size)"
      ]
    },
    {
      "cell_type": "code",
      "execution_count": 89,
      "metadata": {
        "colab": {
          "base_uri": "https://localhost:8080/"
        },
        "id": "7lDuQRkiaNy4",
        "outputId": "7b7b2147-03aa-4eac-f563-0f87ebc8d31e"
      },
      "outputs": [
        {
          "name": "stdout",
          "output_type": "stream",
          "text": [
            "[90, 87, 70, 70, 87, 'A']\n"
          ]
        }
      ],
      "source": [
        "print(grades.values)"
      ]
    },
    {
      "cell_type": "code",
      "execution_count": 90,
      "metadata": {
        "colab": {
          "base_uri": "https://localhost:8080/"
        },
        "id": "XPkGUElDaP_1",
        "outputId": "a88ff02f-de75-4a56-ae41-f7192bda4ff1"
      },
      "outputs": [
        {
          "name": "stdout",
          "output_type": "stream",
          "text": [
            "80.8\n"
          ]
        }
      ],
      "source": [
        "print(grades.mean())"
      ]
    },
    {
      "cell_type": "code",
      "execution_count": 91,
      "metadata": {
        "colab": {
          "base_uri": "https://localhost:8080/"
        },
        "id": "wOh6fYLlaTy-",
        "outputId": "9277037f-39be-4db1-c050-d684202098e9"
      },
      "outputs": [
        {
          "name": "stdout",
          "output_type": "stream",
          "text": [
            "[90, 'A', 70, 87]\n"
          ]
        }
      ],
      "source": [
        "print(grades.unique())"
      ]
    },
    {
      "cell_type": "code",
      "execution_count": null,
      "metadata": {
        "id": "JFBqbkvYaYp5"
      },
      "outputs": [],
      "source": [
        "# numpy\n"
      ]
    },
    {
      "cell_type": "markdown",
      "metadata": {
        "id": "SvvCECnhbhWE"
      },
      "source": [
        "| `numpy` arrays | Python `list` |\n",
        "|---|---|\n",
        "| all elements must be the same type | elements can be different types |\n",
        "| fixed size | can change size |\n",
        "| n-dimensional | 1-dimensional |\n",
        "| faster to process | slower to process |\n",
        "| consumes less memory | consumes more memory |"
      ]
    },
    {
      "cell_type": "code",
      "execution_count": 92,
      "metadata": {
        "id": "9hJbsXgDbiP3"
      },
      "outputs": [],
      "source": [
        "import numpy as np"
      ]
    },
    {
      "cell_type": "code",
      "execution_count": 93,
      "metadata": {
        "id": "tvFB3wxgb4fG"
      },
      "outputs": [],
      "source": [
        "a = np.array([[1, 2, 3],[3, 2, 1]])\n",
        "# first axis has a length of 2\n",
        "# second axis has a length of 3"
      ]
    },
    {
      "cell_type": "code",
      "execution_count": 94,
      "metadata": {
        "colab": {
          "base_uri": "https://localhost:8080/"
        },
        "id": "u0jL7j_lcEY2",
        "outputId": "4674359f-96b4-44e8-d35d-c9c1280220c3"
      },
      "outputs": [
        {
          "data": {
            "text/plain": [
              "array([[1, 2, 3],\n",
              "       [3, 2, 1]])"
            ]
          },
          "execution_count": 94,
          "metadata": {},
          "output_type": "execute_result"
        }
      ],
      "source": [
        "a"
      ]
    },
    {
      "cell_type": "code",
      "execution_count": 95,
      "metadata": {
        "colab": {
          "base_uri": "https://localhost:8080/"
        },
        "id": "mtovdvfLcVUc",
        "outputId": "eacaa270-748a-4501-a19c-f43bb7336641"
      },
      "outputs": [
        {
          "name": "stdout",
          "output_type": "stream",
          "text": [
            "2\n"
          ]
        }
      ],
      "source": [
        "print(a.ndim)"
      ]
    },
    {
      "cell_type": "code",
      "execution_count": 96,
      "metadata": {
        "colab": {
          "base_uri": "https://localhost:8080/"
        },
        "id": "9PdH0T-Fce84",
        "outputId": "27c8d1bf-c8a2-4df5-97b1-b253cf175b64"
      },
      "outputs": [
        {
          "name": "stdout",
          "output_type": "stream",
          "text": [
            "(2, 3)\n"
          ]
        }
      ],
      "source": [
        "print(a.shape)"
      ]
    },
    {
      "cell_type": "code",
      "execution_count": 97,
      "metadata": {
        "colab": {
          "base_uri": "https://localhost:8080/"
        },
        "id": "NfkubTHTcgRU",
        "outputId": "8a96eef1-716a-4a6e-dde2-e62255478d68"
      },
      "outputs": [
        {
          "name": "stdout",
          "output_type": "stream",
          "text": [
            "6\n"
          ]
        }
      ],
      "source": [
        "print(a.size)"
      ]
    },
    {
      "cell_type": "code",
      "execution_count": 98,
      "metadata": {
        "colab": {
          "base_uri": "https://localhost:8080/"
        },
        "id": "yM2qsAzxcj56",
        "outputId": "5254dc24-1fc2-4ea0-9fb6-115538841f6b"
      },
      "outputs": [
        {
          "name": "stdout",
          "output_type": "stream",
          "text": [
            "int64\n"
          ]
        }
      ],
      "source": [
        "print(a.dtype)"
      ]
    },
    {
      "cell_type": "code",
      "execution_count": 99,
      "metadata": {
        "colab": {
          "base_uri": "https://localhost:8080/"
        },
        "id": "cMofU1oIcq8N",
        "outputId": "570d7b2f-237f-48c6-b221-9618e40cf0bd"
      },
      "outputs": [
        {
          "data": {
            "text/plain": [
              "array([[[0., 0.],\n",
              "        [0., 0.],\n",
              "        [0., 0.]],\n",
              "\n",
              "       [[0., 0.],\n",
              "        [0., 0.],\n",
              "        [0., 0.]]])"
            ]
          },
          "execution_count": 99,
          "metadata": {},
          "output_type": "execute_result"
        }
      ],
      "source": [
        "# 2x3x2 array of zeros\n",
        "np.zeros((2, 3, 2))"
      ]
    },
    {
      "cell_type": "code",
      "execution_count": 100,
      "metadata": {
        "colab": {
          "base_uri": "https://localhost:8080/"
        },
        "id": "XvNXt2SLdE-r",
        "outputId": "0c915456-3ea2-4765-d59c-310082ec03d8"
      },
      "outputs": [
        {
          "data": {
            "text/plain": [
              "array([[1, 1, 1],\n",
              "       [1, 1, 1]])"
            ]
          },
          "execution_count": 100,
          "metadata": {},
          "output_type": "execute_result"
        }
      ],
      "source": [
        "np.ones_like(a)"
      ]
    }
  ],
  "metadata": {
    "colab": {
      "provenance": []
    },
    "kernelspec": {
      "display_name": "Python 3",
      "name": "python3"
    },
    "language_info": {
      "name": "python"
    }
  },
  "nbformat": 4,
  "nbformat_minor": 0
}
