{
 "cells": [
  {
   "cell_type": "code",
   "execution_count": null,
   "metadata": {},
   "outputs": [],
   "source": []
  },
  {
   "cell_type": "code",
   "execution_count": null,
   "metadata": {},
   "outputs": [],
   "source": []
  },
  {
   "cell_type": "code",
   "execution_count": null,
   "metadata": {},
   "outputs": [],
   "source": []
  },
  {
   "cell_type": "code",
   "execution_count": null,
   "metadata": {},
   "outputs": [],
   "source": []
  },
  {
   "cell_type": "code",
   "execution_count": 9,
   "metadata": {},
   "outputs": [],
   "source": [
    "def anagram_checker_count(str1, str2):\n",
    "    # Convert to lowercase\n",
    "    str1 = str1.lower()\n",
    "    str2 = str2.lower()\n",
    "    \n",
    "    # Quick length check\n",
    "    if len(str1) != len(str2):\n",
    "        return False\n",
    "    \n",
    "    # Count character frequencies\n",
    "    char_count = {}\n",
    "    \n",
    "    # Count characters in first string\n",
    "    for char in str1:\n",
    "        char_count[char] = char_count.get(char, 0) + 1\n",
    "    \n",
    "    # Subtract counts from second string\n",
    "    for char in str2:\n",
    "        if char not in char_count:\n",
    "            return False\n",
    "        char_count[char] -= 1\n",
    "        if char_count[char] < 0:\n",
    "            return False\n",
    "    \n",
    "    return True"
   ]
  },
  {
   "cell_type": "code",
   "execution_count": 10,
   "metadata": {},
   "outputs": [],
   "source": [
    "from collections import Counter\n",
    "\n",
    "def anagram_checker_hashmap(str1, str2):\n",
    "    # Convert to lowercase and use Counter\n",
    "    return Counter(str1.lower()) == Counter(str2.lower())"
   ]
  },
  {
   "cell_type": "code",
   "execution_count": 12,
   "metadata": {},
   "outputs": [],
   "source": [
    "def anagram_checker(str1, str2):\n",
    "    str1 = str1.lower()  # Normalize case\n",
    "    str2 = str2.lower()  # Normalize case\n",
    "    \n",
    "    return sorted(str1) == sorted(str2)"
   ]
  },
  {
   "cell_type": "code",
   "execution_count": 13,
   "metadata": {},
   "outputs": [
    {
     "name": "stdout",
     "output_type": "stream",
     "text": [
      "All tests passed!\n"
     ]
    }
   ],
   "source": [
    "def test_anagram_checker():\n",
    "    # Positive cases\n",
    "    assert anagram_checker(\"Silent\", \"listen\") == True\n",
    "    assert anagram_checker(\"night\", \"Thing\") == True\n",
    "    \n",
    "    # Negative cases\n",
    "    assert anagram_checker(\"Silent\", \"Night\") == False\n",
    "    \n",
    "    # Edge cases\n",
    "    assert anagram_checker(\"\", \"\") == True  # Empty strings\n",
    "    assert anagram_checker(\"a\", \"a\") == True  # Single character\n",
    "    assert anagram_checker(\"a\", \"b\") == False  # Different single characters\n",
    "    \n",
    "    # Case insensitivity\n",
    "    assert anagram_checker(\"LISTEN\", \"silent\") == True\n",
    "    \n",
    "    print(\"All tests passed!\")\n",
    "\n",
    "test_anagram_checker()"
   ]
  },
  {
   "cell_type": "code",
   "execution_count": 14,
   "metadata": {},
   "outputs": [
    {
     "name": "stdout",
     "output_type": "stream",
     "text": [
      "False\n"
     ]
    }
   ],
   "source": [
    "import unicodedata\n",
    "import string\n",
    "\n",
    "def advanced_anagram_checker(str1, str2):\n",
    "    # Normalize Unicode characters\n",
    "    str1 = unicodedata.normalize('NFKD', str1)\n",
    "    str2 = unicodedata.normalize('NFKD', str2)\n",
    "    \n",
    "    # Remove punctuation and convert to lowercase\n",
    "    def clean_string(s):\n",
    "        return ''.join(\n",
    "            char.lower() for char in s \n",
    "            if char not in string.punctuation\n",
    "        )\n",
    "    \n",
    "    return sorted(clean_string(str1)) == sorted(clean_string(str2))\n",
    "\n",
    "# Example usage\n",
    "print(advanced_anagram_checker(\"A man, a plan, a canal: Panama!\", \"Panama\"))  # True"
   ]
  },
  {
   "cell_type": "code",
   "execution_count": 16,
   "metadata": {},
   "outputs": [
    {
     "data": {
      "text/plain": [
       "True"
      ]
     },
     "execution_count": 16,
     "metadata": {},
     "output_type": "execute_result"
    }
   ],
   "source": [
    "anagram_checker(\"Silent\", \"listen\")"
   ]
  },
  {
   "cell_type": "code",
   "execution_count": 17,
   "metadata": {},
   "outputs": [
    {
     "data": {
      "text/plain": [
       "False"
      ]
     },
     "execution_count": 17,
     "metadata": {},
     "output_type": "execute_result"
    }
   ],
   "source": [
    "anagram_checker(\"Silent\", \"Night\")"
   ]
  },
  {
   "cell_type": "code",
   "execution_count": 18,
   "metadata": {},
   "outputs": [
    {
     "data": {
      "text/plain": [
       "True"
      ]
     },
     "execution_count": 18,
     "metadata": {},
     "output_type": "execute_result"
    }
   ],
   "source": [
    "anagram_checker(\"night\", \"Thing\")"
   ]
  },
  {
   "cell_type": "code",
   "execution_count": 19,
   "metadata": {},
   "outputs": [
    {
     "data": {
      "text/plain": [
       "True"
      ]
     },
     "execution_count": 19,
     "metadata": {},
     "output_type": "execute_result"
    }
   ],
   "source": [
    "anagram_checker(\"Silent\", \"listen\")"
   ]
  },
  {
   "cell_type": "code",
   "execution_count": 2,
   "metadata": {},
   "outputs": [
    {
     "name": "stdout",
     "output_type": "stream",
     "text": [
      "True\n"
     ]
    }
   ],
   "source": [
    "def anagram_checker(word_a, word_b, is_case_sensitive):\n",
    "    # If not case sensitive, convert both words to lowercase\n",
    "    if not is_case_sensitive:\n",
    "        word_a = word_a.lower()\n",
    "        word_b = word_b.lower()\n",
    "    \n",
    "    # Check if the sorted characters of both words are the same\n",
    "    return sorted(word_a) == sorted(word_b)\n",
    "\n",
    "# Test case\n",
    "print(anagram_checker(\"Silent\", \"listen\", False))"
   ]
  },
  {
   "cell_type": "code",
   "execution_count": 3,
   "metadata": {},
   "outputs": [
    {
     "data": {
      "text/plain": [
       "True"
      ]
     },
     "execution_count": 3,
     "metadata": {},
     "output_type": "execute_result"
    }
   ],
   "source": [
    "anagram_checker(\"Silent\", \"listen\", False)"
   ]
  },
  {
   "cell_type": "code",
   "execution_count": 4,
   "metadata": {},
   "outputs": [
    {
     "data": {
      "text/plain": [
       "False"
      ]
     },
     "execution_count": 4,
     "metadata": {},
     "output_type": "execute_result"
    }
   ],
   "source": [
    "anagram_checker(\"Silent\", \"Listen\", True)"
   ]
  }
 ],
 "metadata": {
  "kernelspec": {
   "display_name": "dsi_participant",
   "language": "python",
   "name": "python3"
  },
  "language_info": {
   "codemirror_mode": {
    "name": "ipython",
    "version": 3
   },
   "file_extension": ".py",
   "mimetype": "text/x-python",
   "name": "python",
   "nbconvert_exporter": "python",
   "pygments_lexer": "ipython3",
   "version": "3.9.20"
  }
 },
 "nbformat": 4,
 "nbformat_minor": 2
}
